{
 "cells": [
  {
   "cell_type": "markdown",
   "metadata": {},
   "source": [
    "# Functions"
   ]
  },
  {
   "cell_type": "markdown",
   "metadata": {},
   "source": [
    "On this lab we will put to practice some of the concepts we have learned on this past few days.\n",
    "\n",
    "`NOTE: On this lab you should try to write all the functions yourself using only the most basic of python syntax and without functions such as len, count, sum, max, min, in, etc. Give it a try. 🧑🏻‍💻👩🏻‍💻`\n",
    "\n",
    "The cell after each exercise contains a few tests to check if your function works as expected."
   ]
  },
  {
   "cell_type": "code",
   "execution_count": 188,
   "metadata": {},
   "outputs": [],
   "source": [
    "from mod.testing import *\n",
    "import unittest"
   ]
  },
  {
   "cell_type": "markdown",
   "metadata": {},
   "source": [
    "## 1. Write a function that returns the greater of two numbers"
   ]
  },
  {
   "cell_type": "code",
   "execution_count": 189,
   "metadata": {},
   "outputs": [],
   "source": [
    "def greater(a,b):\n",
    "    if a>b:\n",
    "        return a \n",
    "    elif b>a:\n",
    "        return b\n"
   ]
  },
  {
   "cell_type": "code",
   "execution_count": 190,
   "metadata": {},
   "outputs": [
    {
     "data": {
      "text/plain": [
       "3"
      ]
     },
     "execution_count": 190,
     "metadata": {},
     "output_type": "execute_result"
    }
   ],
   "source": [
    "greater(2,3)"
   ]
  },
  {
   "cell_type": "code",
   "execution_count": null,
   "metadata": {},
   "outputs": [],
   "source": []
  },
  {
   "cell_type": "code",
   "execution_count": 191,
   "metadata": {},
   "outputs": [
    {
     "name": "stderr",
     "output_type": "stream",
     "text": [
      "....................................................................................................\n",
      "----------------------------------------------------------------------\n",
      "Ran 100 tests in 0.202s\n",
      "\n",
      "OK\n"
     ]
    }
   ],
   "source": [
    "# This will test your function \n",
    "test_greater(greater)"
   ]
  },
  {
   "cell_type": "markdown",
   "metadata": {},
   "source": [
    "## 2. Now write a function that returns the largest element on a list"
   ]
  },
  {
   "cell_type": "code",
   "execution_count": 192,
   "metadata": {},
   "outputs": [],
   "source": [
    "def greatest(arr):\n",
    "    arr.sort()\n",
    "    return arr[-1]\n"
   ]
  },
  {
   "cell_type": "code",
   "execution_count": 193,
   "metadata": {},
   "outputs": [
    {
     "data": {
      "text/plain": [
       "3"
      ]
     },
     "execution_count": 193,
     "metadata": {},
     "output_type": "execute_result"
    }
   ],
   "source": [
    "greatest([1,2,3])"
   ]
  },
  {
   "cell_type": "code",
   "execution_count": 194,
   "metadata": {},
   "outputs": [
    {
     "name": "stderr",
     "output_type": "stream",
     "text": [
      "....................................................................................................\n",
      "----------------------------------------------------------------------\n",
      "Ran 100 tests in 0.204s\n",
      "\n",
      "OK\n"
     ]
    }
   ],
   "source": [
    "# This will test your function \n",
    "test_greatest(greatest)"
   ]
  },
  {
   "cell_type": "markdown",
   "metadata": {},
   "source": [
    "## 3. Write a function that sums all the elements on a list"
   ]
  },
  {
   "cell_type": "code",
   "execution_count": 195,
   "metadata": {},
   "outputs": [],
   "source": [
    "def sum_all(arr):\n",
    "    element=0\n",
    "    for i in arr:\n",
    "        element += i\n",
    "    return element"
   ]
  },
  {
   "cell_type": "code",
   "execution_count": 196,
   "metadata": {},
   "outputs": [
    {
     "data": {
      "text/plain": [
       "10"
      ]
     },
     "execution_count": 196,
     "metadata": {},
     "output_type": "execute_result"
    }
   ],
   "source": [
    "sum_all([1,2,3,4])"
   ]
  },
  {
   "cell_type": "code",
   "execution_count": 197,
   "metadata": {},
   "outputs": [
    {
     "name": "stderr",
     "output_type": "stream",
     "text": [
      "....................................................................................................\n",
      "----------------------------------------------------------------------\n",
      "Ran 100 tests in 0.211s\n",
      "\n",
      "OK\n"
     ]
    }
   ],
   "source": [
    "# This will test your function \n",
    "test_sum(sum_all)"
   ]
  },
  {
   "cell_type": "markdown",
   "metadata": {},
   "source": [
    "## 4. Write another function that multiplies all the elements on a list"
   ]
  },
  {
   "cell_type": "code",
   "execution_count": 198,
   "metadata": {},
   "outputs": [],
   "source": [
    "def mult_all(arr):\n",
    "    element=1\n",
    "    for i in arr:\n",
    "        element *= i\n",
    "    return element"
   ]
  },
  {
   "cell_type": "code",
   "execution_count": 199,
   "metadata": {},
   "outputs": [
    {
     "data": {
      "text/plain": [
       "120"
      ]
     },
     "execution_count": 199,
     "metadata": {},
     "output_type": "execute_result"
    }
   ],
   "source": [
    "mult_all([2,3,4,5])"
   ]
  },
  {
   "cell_type": "code",
   "execution_count": 200,
   "metadata": {},
   "outputs": [
    {
     "name": "stderr",
     "output_type": "stream",
     "text": [
      "....................................................................................................\n",
      "----------------------------------------------------------------------\n",
      "Ran 100 tests in 0.214s\n",
      "\n",
      "OK\n"
     ]
    }
   ],
   "source": [
    "# This will test your function \n",
    "test_mult(mult_all)"
   ]
  },
  {
   "cell_type": "markdown",
   "metadata": {},
   "source": [
    "## 5. Now combine those two ideas and write a function that receives a list and either \"+\" or \"*\" and outputs acordingly"
   ]
  },
  {
   "cell_type": "code",
   "execution_count": 201,
   "metadata": {},
   "outputs": [],
   "source": [
    "def oper_all(arr, oper):\n",
    "    if oper==\"+\":\n",
    "        element=0\n",
    "        for i in arr:\n",
    "            element += i\n",
    "        return element\n",
    "    if oper==\"*\":\n",
    "        element_1=1\n",
    "        for i in arr:\n",
    "            element_1 *= i\n",
    "        return element_1"
   ]
  },
  {
   "cell_type": "code",
   "execution_count": 202,
   "metadata": {},
   "outputs": [
    {
     "data": {
      "text/plain": [
       "72"
      ]
     },
     "execution_count": 202,
     "metadata": {},
     "output_type": "execute_result"
    }
   ],
   "source": [
    "oper_all([1,3,3,8],\"*\")"
   ]
  },
  {
   "cell_type": "code",
   "execution_count": 203,
   "metadata": {},
   "outputs": [
    {
     "name": "stderr",
     "output_type": "stream",
     "text": [
      "....................................................................................................\n",
      "----------------------------------------------------------------------\n",
      "Ran 100 tests in 0.207s\n",
      "\n",
      "OK\n"
     ]
    }
   ],
   "source": [
    "# This will test your function \n",
    "test_operations(oper_all)"
   ]
  },
  {
   "cell_type": "markdown",
   "metadata": {},
   "source": [
    "## 6. Write a function that returns the factorial of a number."
   ]
  },
  {
   "cell_type": "code",
   "execution_count": 204,
   "metadata": {},
   "outputs": [],
   "source": [
    "def factorial(n):\n",
    "    if n<0:\n",
    "        return \"none\"\n",
    "    if n==0:\n",
    "        return 1\n",
    "    if n>0:\n",
    "        return math.factorial(n)"
   ]
  },
  {
   "cell_type": "code",
   "execution_count": 205,
   "metadata": {},
   "outputs": [],
   "source": [
    "import math"
   ]
  },
  {
   "cell_type": "code",
   "execution_count": 206,
   "metadata": {},
   "outputs": [
    {
     "data": {
      "text/plain": [
       "6"
      ]
     },
     "execution_count": 206,
     "metadata": {},
     "output_type": "execute_result"
    }
   ],
   "source": [
    "factorial(3)"
   ]
  },
  {
   "cell_type": "code",
   "execution_count": 207,
   "metadata": {},
   "outputs": [
    {
     "name": "stderr",
     "output_type": "stream",
     "text": [
      "....................................................................................................\n",
      "----------------------------------------------------------------------\n",
      "Ran 100 tests in 0.184s\n",
      "\n",
      "OK\n"
     ]
    }
   ],
   "source": [
    "# This will test your function \n",
    "test_factorial(factorial)"
   ]
  },
  {
   "cell_type": "markdown",
   "metadata": {},
   "source": [
    "## 7. Write a function that takes a list and returns a list of the unique values.\n",
    "\n",
    "`NOTE: You cannot use set. 🤔`"
   ]
  },
  {
   "cell_type": "code",
   "execution_count": 208,
   "metadata": {},
   "outputs": [],
   "source": [
    "def unique(arr):\n",
    "    list=[]\n",
    "    for i in arr:\n",
    "        if i not in list:\n",
    "            list.append(i) \n",
    "    return list"
   ]
  },
  {
   "cell_type": "code",
   "execution_count": 209,
   "metadata": {},
   "outputs": [
    {
     "data": {
      "text/plain": [
       "[1, 2, 3]"
      ]
     },
     "execution_count": 209,
     "metadata": {},
     "output_type": "execute_result"
    }
   ],
   "source": [
    "unique([1,1,2,2,3])"
   ]
  },
  {
   "cell_type": "code",
   "execution_count": 210,
   "metadata": {},
   "outputs": [
    {
     "name": "stderr",
     "output_type": "stream",
     "text": [
      "....................................................................................................\n",
      "----------------------------------------------------------------------\n",
      "Ran 100 tests in 0.358s\n",
      "\n",
      "OK\n"
     ]
    }
   ],
   "source": [
    "# This will test your function \n",
    "test_unique(unique)"
   ]
  },
  {
   "cell_type": "markdown",
   "metadata": {},
   "source": [
    "## 8. Write a function that returns the mode of a list, i.e.: the element that appears the most times.\n",
    "`NOTE: You should not use count... 🧐`"
   ]
  },
  {
   "cell_type": "code",
   "execution_count": 211,
   "metadata": {},
   "outputs": [],
   "source": [
    "def mode_counter(arr):    \n",
    "    return statistics.mode(arr)"
   ]
  },
  {
   "cell_type": "code",
   "execution_count": 212,
   "metadata": {},
   "outputs": [],
   "source": [
    "import statistics #del prework hehe"
   ]
  },
  {
   "cell_type": "code",
   "execution_count": 213,
   "metadata": {},
   "outputs": [
    {
     "data": {
      "text/plain": [
       "2"
      ]
     },
     "execution_count": 213,
     "metadata": {},
     "output_type": "execute_result"
    }
   ],
   "source": [
    "mode_counter([1,2,2,3,4,5])"
   ]
  },
  {
   "cell_type": "code",
   "execution_count": 214,
   "metadata": {},
   "outputs": [
    {
     "name": "stderr",
     "output_type": "stream",
     "text": [
      "....................................................................................................\n",
      "----------------------------------------------------------------------\n",
      "Ran 100 tests in 0.226s\n",
      "\n",
      "OK\n"
     ]
    }
   ],
   "source": [
    "# This will test your function \n",
    "test_mode(mode_counter)"
   ]
  },
  {
   "cell_type": "markdown",
   "metadata": {},
   "source": [
    "## 9. Write a function that calculates the standard deviation of a list.\n",
    "`NOTE: Do not use any libraries or already built functions. 😉`"
   ]
  },
  {
   "cell_type": "code",
   "execution_count": 250,
   "metadata": {},
   "outputs": [],
   "source": [
    "from statistics import stdev\n",
    "import math\n",
    "def st_dev(arr):\n",
    "    ln=0\n",
    "    for i in arr:\n",
    "        ln+=1\n",
    "    suma=0\n",
    "    for i in arr:\n",
    "        suma +=i\n",
    "    mean=suma/ln\n",
    "    \n",
    "    num_var=0\n",
    "    for i in arr:\n",
    "        num_var+=(i-mean)**2\n",
    "    var=num_var/(ln-1)#lo que me ha costado!!\n",
    "    std= var**(0.5)\n",
    "    return std"
   ]
  },
  {
   "cell_type": "code",
   "execution_count": 252,
   "metadata": {},
   "outputs": [
    {
     "data": {
      "text/plain": [
       "1.2909944487358056"
      ]
     },
     "execution_count": 252,
     "metadata": {},
     "output_type": "execute_result"
    }
   ],
   "source": [
    "st_dev([1,2,3,4]) "
   ]
  },
  {
   "cell_type": "code",
   "execution_count": 217,
   "metadata": {},
   "outputs": [
    {
     "data": {
      "text/plain": [
       "1.2909944487358056"
      ]
     },
     "execution_count": 217,
     "metadata": {},
     "output_type": "execute_result"
    }
   ],
   "source": [
    "import statistics\n",
    "statistics.stdev([1,2,3,4])"
   ]
  },
  {
   "cell_type": "code",
   "execution_count": 253,
   "metadata": {},
   "outputs": [
    {
     "name": "stderr",
     "output_type": "stream",
     "text": [
      "....................................................................................................\n",
      "----------------------------------------------------------------------\n",
      "Ran 100 tests in 0.223s\n",
      "\n",
      "OK\n"
     ]
    }
   ],
   "source": [
    "# This will test your function \n",
    "test_stdev(st_dev)"
   ]
  },
  {
   "cell_type": "markdown",
   "metadata": {},
   "source": [
    "## 10. Write a function to check if a string is a pangram, i.e.: if it contains all the letters of the alphabet at least once. Mind that the strings may contain characters that are not letters."
   ]
  },
  {
   "cell_type": "code",
   "execution_count": 300,
   "metadata": {},
   "outputs": [],
   "source": [
    "def pangram(string):\n",
    "    alfabeto = \"abcdefghijklmnopqrstuvwxyz\"\n",
    "    for i in alfabeto:\n",
    "        if i not in string.lower():\n",
    "            return False\n",
    "    else:\n",
    "        return True"
   ]
  },
  {
   "cell_type": "code",
   "execution_count": 292,
   "metadata": {},
   "outputs": [
    {
     "data": {
      "text/plain": [
       "True"
      ]
     },
     "execution_count": 292,
     "metadata": {},
     "output_type": "execute_result"
    }
   ],
   "source": [
    "pangram(\"holA\")"
   ]
  },
  {
   "cell_type": "code",
   "execution_count": 301,
   "metadata": {},
   "outputs": [
    {
     "name": "stderr",
     "output_type": "stream",
     "text": [
      "..............................\n",
      "----------------------------------------------------------------------\n",
      "Ran 30 tests in 0.058s\n",
      "\n",
      "OK\n"
     ]
    }
   ],
   "source": [
    "# This will test your function \n",
    "test_pangram(pangram)"
   ]
  },
  {
   "cell_type": "markdown",
   "metadata": {},
   "source": [
    "## 11. Write a function that receives a string of comma separated words and returns a string of comma separated words sorted alphabetically.\n",
    "\n",
    "`NOTE: You may use sorted but not split and definitely no join! 🤪`"
   ]
  },
  {
   "cell_type": "code",
   "execution_count": 351,
   "metadata": {},
   "outputs": [],
   "source": [
    "def sort_alpha(string):\n",
    "    list_alpha=list(string)   \n",
    "    list_alpha2=sorted(list_alpha)\n",
    "    string_alpha=str(list_alpha2) #esque sin el join nose como se hace:(\n",
    "    return string_alpha"
   ]
  },
  {
   "cell_type": "code",
   "execution_count": 352,
   "metadata": {},
   "outputs": [
    {
     "data": {
      "text/plain": [
       "\"['a', 'e', 'i', 'l', 's']\""
      ]
     },
     "execution_count": 352,
     "metadata": {},
     "output_type": "execute_result"
    }
   ],
   "source": [
    "sort_alpha(\"elisa\")"
   ]
  },
  {
   "cell_type": "code",
   "execution_count": 353,
   "metadata": {},
   "outputs": [
    {
     "name": "stderr",
     "output_type": "stream",
     "text": [
      "FFFFFFFFFFFFFFFFFFFFFFFFFFFFFFFFFFFFFFFFFFFFFFFFFFFFFFFFFFFFFFFFFFFFFFFFFFFFFFFFFFFFFFFFFFFFFFFFFFFF\n",
      "======================================================================\n",
      "FAIL: runTest (mod.testing.test_alpha.<locals>.TestKnown)\n",
      "----------------------------------------------------------------------\n",
      "Traceback (most recent call last):\n",
      "  File \"C:\\Users\\egcmo\\ironhack\\Labs\\lab-functions\\mod\\testing.py\", line 187, in runTest\n",
      "    self.assertEqual(fn(self.input), self.output, f\"Should be {self.output}\")\n",
      "AssertionError: \"[',', ',', ',', ',', ',', ',', ',', ',',[736 chars]'z']\" != 'avjbo,bhsjyvvkxn,cvlknhj,dktzslzls,fmjb,[112 chars]cmaz'\n",
      "Diff is 943 characters long. Set self.maxDiff to None to see it. : Should be avjbo,bhsjyvvkxn,cvlknhj,dktzslzls,fmjb,fvnqdrg,jdnuzz,lohn,mrugdqqum,oaet,oapvp,oerqxgqi,utawwmpipe,uxtgkssot,vgbjqg,vowoant,vwhsbweuag,xfsqoell,yzhaoocmaz\n",
      "\n",
      "======================================================================\n",
      "FAIL: runTest (mod.testing.test_alpha.<locals>.TestKnown)\n",
      "----------------------------------------------------------------------\n",
      "Traceback (most recent call last):\n",
      "  File \"C:\\Users\\egcmo\\ironhack\\Labs\\lab-functions\\mod\\testing.py\", line 187, in runTest\n",
      "    self.assertEqual(fn(self.input), self.output, f\"Should be {self.output}\")\n",
      "AssertionError: \"[',', ',', ',', ',', ',', ',', ',', ',',[741 chars]'z']\" != 'drprzmbi,eimelplytn,fmdw,gxyjjckgxt,ienv[113 chars]mheh'\n",
      "Diff is 949 characters long. Set self.maxDiff to None to see it. : Should be drprzmbi,eimelplytn,fmdw,gxyjjckgxt,ienvyzlrhi,iresod,izafqnjas,jckdpkst,jjxs,jmcig,jqqlpq,jufhirtdjx,jvzinbmh,laqvqog,mxknv,pxirtk,rkfowcvzt,wwlsfgix,xhmheh\n",
      "\n",
      "======================================================================\n",
      "FAIL: runTest (mod.testing.test_alpha.<locals>.TestKnown)\n",
      "----------------------------------------------------------------------\n",
      "Traceback (most recent call last):\n",
      "  File \"C:\\Users\\egcmo\\ironhack\\Labs\\lab-functions\\mod\\testing.py\", line 187, in runTest\n",
      "    self.assertEqual(fn(self.input), self.output, f\"Should be {self.output}\")\n",
      "AssertionError: \"[',', ',', ',', ',', ',', 'a', 'a', 'a',[206 chars]'z']\" != 'hfsfazp,jmihjezphn,mwgtwli,trtlzout,xaehauk,ylhxvp'\n",
      "- [',', ',', ',', ',', ',', 'a', 'a', 'a', 'e', 'e', 'f', 'f', 'g', 'h', 'h', 'h', 'h', 'h', 'i', 'i', 'j', 'j', 'k', 'l', 'l', 'l', 'm', 'm', 'n', 'o', 'p', 'p', 'p', 'r', 's', 't', 't', 't', 't', 'u', 'u', 'v', 'w', 'w', 'x', 'x', 'y', 'z', 'z', 'z']\n",
      "+ hfsfazp,jmihjezphn,mwgtwli,trtlzout,xaehauk,ylhxvp\n",
      " : Should be hfsfazp,jmihjezphn,mwgtwli,trtlzout,xaehauk,ylhxvp\n",
      "\n",
      "======================================================================\n",
      "FAIL: runTest (mod.testing.test_alpha.<locals>.TestKnown)\n",
      "----------------------------------------------------------------------\n",
      "Traceback (most recent call last):\n",
      "  File \"C:\\Users\\egcmo\\ironhack\\Labs\\lab-functions\\mod\\testing.py\", line 187, in runTest\n",
      "    self.assertEqual(fn(self.input), self.output, f\"Should be {self.output}\")\n",
      "AssertionError: \"[',', ',', ',', ',', ',', ',', ',', ',',[746 chars]'z']\" != 'agpnw,azoq,bitcekvwp,gohdo,jlyu,jzlhotg,[114 chars]zwgg'\n",
      "Diff is 955 characters long. Set self.maxDiff to None to see it. : Should be agpnw,azoq,bitcekvwp,gohdo,jlyu,jzlhotg,kiwb,lluyg,mugvzc,nduoym,nunl,nwzgpf,okfmweheek,pmqzegs,pqardoa,qucjliuv,vkkdvrjb,vurftcs,xtuavsspui,ylhl,ysrkcyq,zwgg\n",
      "\n",
      "======================================================================\n",
      "FAIL: runTest (mod.testing.test_alpha.<locals>.TestKnown)\n",
      "----------------------------------------------------------------------\n",
      "Traceback (most recent call last):\n",
      "  File \"C:\\Users\\egcmo\\ironhack\\Labs\\lab-functions\\mod\\testing.py\", line 187, in runTest\n",
      "    self.assertEqual(fn(self.input), self.output, f\"Should be {self.output}\")\n",
      "AssertionError: \"[',', ',', ',', ',', ',', ',', ',', ',',[871 chars]'z']\" != 'agvprvezo,audfqpfj,clkwlgyi,ekiezcb,hled[139 chars]cune'\n",
      "Diff is 1105 characters long. Set self.maxDiff to None to see it. : Should be agvprvezo,audfqpfj,clkwlgyi,ekiezcb,hledbvkyo,hpsjr,kpxol,krwgrcpxyi,lgasycb,munza,mvlrujz,ngpmcik,ptqo,qecsmiomoe,qpwm,thah,xkqhgb,xvnblrupft,xzpzop,yytfzoram,zjwar,zreslfcf,zynmcune\n",
      "\n",
      "======================================================================\n",
      "FAIL: runTest (mod.testing.test_alpha.<locals>.TestKnown)\n",
      "----------------------------------------------------------------------\n",
      "Traceback (most recent call last):\n",
      "  File \"C:\\Users\\egcmo\\ironhack\\Labs\\lab-functions\\mod\\testing.py\", line 187, in runTest\n",
      "    self.assertEqual(fn(self.input), self.output, f\"Should be {self.output}\")\n",
      "AssertionError: \"[',', ',', ',', ',', ',', ',', ',', ',',[991 chars]'z']\" != 'agmventpyc,bexcgrnlxb,bujolj,cswpf,djnop[163 chars]itnc'\n",
      "Diff is 1249 characters long. Set self.maxDiff to None to see it. : Should be agmventpyc,bexcgrnlxb,bujolj,cswpf,djnopsrk,dywdtkucsc,ergcy,gqsvfccdhw,hlbiurlkbe,liwmm,lwolztbqvz,nwoqysju,oowfcwjnq,plbzlaucxd,qkgh,somphnnzi,srzaz,trzhrgjppd,udhzk,ujgl,vcel,wuyph,xcritrocyv,xpggvv,zitnc\n",
      "\n",
      "======================================================================\n",
      "FAIL: runTest (mod.testing.test_alpha.<locals>.TestKnown)\n",
      "----------------------------------------------------------------------\n",
      "Traceback (most recent call last):\n",
      "  File \"C:\\Users\\egcmo\\ironhack\\Labs\\lab-functions\\mod\\testing.py\", line 187, in runTest\n",
      "    self.assertEqual(fn(self.input), self.output, f\"Should be {self.output}\")\n",
      "AssertionError: \"[',', ',', ',', ',', ',', ',', 'a', 'a',[201 chars]'z']\" != 'hkpe,lgaging,njfmzafbe,qtngg,rojfh,sanljz,snzwxlx'\n",
      "- [',', ',', ',', ',', ',', ',', 'a', 'a', 'a', 'b', 'e', 'e', 'f', 'f', 'f', 'g', 'g', 'g', 'g', 'g', 'h', 'h', 'i', 'j', 'j', 'j', 'k', 'l', 'l', 'l', 'm', 'n', 'n', 'n', 'n', 'n', 'o', 'p', 'q', 'r', 's', 's', 't', 'w', 'x', 'x', 'z', 'z', 'z']\n",
      "+ hkpe,lgaging,njfmzafbe,qtngg,rojfh,sanljz,snzwxlx\n",
      " : Should be hkpe,lgaging,njfmzafbe,qtngg,rojfh,sanljz,snzwxlx\n",
      "\n",
      "======================================================================\n",
      "FAIL: runTest (mod.testing.test_alpha.<locals>.TestKnown)\n",
      "----------------------------------------------------------------------\n",
      "Traceback (most recent call last):\n",
      "  File \"C:\\Users\\egcmo\\ironhack\\Labs\\lab-functions\\mod\\testing.py\", line 187, in runTest\n",
      "    self.assertEqual(fn(self.input), self.output, f\"Should be {self.output}\")\n",
      "AssertionError: \"[',', ',', ',', ',', ',', ',', ',', ',',[566 chars]'z']\" != 'dwjowacj,ffpbkn,fhtt,hdmv,hkjuumbxy,pkin[78 chars]tarm'\n",
      "Diff is 739 characters long. Set self.maxDiff to None to see it. : Should be dwjowacj,ffpbkn,fhtt,hdmv,hkjuumbxy,pkindx,pviuauf,qbbjfwsn,qsjreqma,stjnvmt,tedzrpqrl,uoye,wfztmyy,yauysfv,zbhuur,zigtarm\n",
      "\n",
      "======================================================================\n",
      "FAIL: runTest (mod.testing.test_alpha.<locals>.TestKnown)\n",
      "----------------------------------------------------------------------\n",
      "Traceback (most recent call last):\n",
      "  File \"C:\\Users\\egcmo\\ironhack\\Labs\\lab-functions\\mod\\testing.py\", line 187, in runTest\n",
      "    self.assertEqual(fn(self.input), self.output, f\"Should be {self.output}\")\n",
      "AssertionError: \"[',', ',', ',', ',', 'b', 'b', 'c', 'd',[141 chars]'z']\" != 'eglhsm,refforbur,sdzd,wdvxlvycv,zzhbk'\n",
      "- [',', ',', ',', ',', 'b', 'b', 'c', 'd', 'd', 'd', 'e', 'e', 'f', 'f', 'g', 'h', 'h', 'k', 'l', 'l', 'm', 'o', 'r', 'r', 'r', 's', 's', 'u', 'v', 'v', 'v', 'w', 'x', 'y', 'z', 'z', 'z']\n",
      "+ eglhsm,refforbur,sdzd,wdvxlvycv,zzhbk\n",
      " : Should be eglhsm,refforbur,sdzd,wdvxlvycv,zzhbk\n",
      "\n",
      "======================================================================\n",
      "FAIL: runTest (mod.testing.test_alpha.<locals>.TestKnown)\n",
      "----------------------------------------------------------------------\n",
      "Traceback (most recent call last):\n",
      "  File \"C:\\Users\\egcmo\\ironhack\\Labs\\lab-functions\\mod\\testing.py\", line 187, in runTest\n",
      "    self.assertEqual(fn(self.input), self.output, f\"Should be {self.output}\")\n",
      "AssertionError: \"[',', ',', ',', ',', ',', ',', ',', ',',[366 chars]'y']\" != 'bplvharu,byxlxtlrsq,dotfecrllf,ewxs,ffdg[38 chars]nkaq'\n",
      "- [',', ',', ',', ',', ',', ',', ',', ',', ',', 'a', 'a', 'b', 'b', 'c', 'c', 'c', 'd', 'd', 'e', 'e', 'e', 'e', 'e', 'f', 'f', 'f', 'f', 'f', 'g', 'g', 'g', 'h', 'h', 'h', 'i', 'j', 'j', 'k', 'k', 'k', 'l', 'l', 'l', 'l', 'l', 'l', 'l', 'm', 'm', 'm', 'n', 'o', 'p', 'p', 'q', 'q', 'q', 'q', 'r', 'r', 'r', 'r', 'r', 'r', 's', 's', 's', 't', 't', 'u', 'u', 'v', 'v', 'v', 'w', 'w', 'x', 'x', 'x', 'x', 'x', 'y']\n",
      "+ bplvharu,byxlxtlrsq,dotfecrllf,ewxs,ffdgrg,ipcx,kevmqce,ljsxevfhmg,lrruhkqm,wjnkaq\n",
      " : Should be bplvharu,byxlxtlrsq,dotfecrllf,ewxs,ffdgrg,ipcx,kevmqce,ljsxevfhmg,lrruhkqm,wjnkaq\n",
      "\n"
     ]
    },
    {
     "name": "stderr",
     "output_type": "stream",
     "text": [
      "======================================================================\n",
      "FAIL: runTest (mod.testing.test_alpha.<locals>.TestKnown)\n",
      "----------------------------------------------------------------------\n",
      "Traceback (most recent call last):\n",
      "  File \"C:\\Users\\egcmo\\ironhack\\Labs\\lab-functions\\mod\\testing.py\", line 187, in runTest\n",
      "    self.assertEqual(fn(self.input), self.output, f\"Should be {self.output}\")\n",
      "AssertionError: \"[',', ',', ',', ',', ',', ',', ',', ',',[716 chars]'z']\" != 'atdqhfcawv,awzl,cvzcg,dzmx,ixfgqq,jiptuo[108 chars]enbj'\n",
      "Diff is 919 characters long. Set self.maxDiff to None to see it. : Should be atdqhfcawv,awzl,cvzcg,dzmx,ixfgqq,jiptuowkvf,ksznsv,mtequle,nyncq,pckunqcdls,rizwexvlqo,ttbmxy,uepeiywn,wgtmk,wpjaoptj,xalhixr,yvujeytmy,zamaf,ztzsvenbj\n",
      "\n",
      "======================================================================\n",
      "FAIL: runTest (mod.testing.test_alpha.<locals>.TestKnown)\n",
      "----------------------------------------------------------------------\n",
      "Traceback (most recent call last):\n",
      "  File \"C:\\Users\\egcmo\\ironhack\\Labs\\lab-functions\\mod\\testing.py\", line 187, in runTest\n",
      "    self.assertEqual(fn(self.input), self.output, f\"Should be {self.output}\")\n",
      "AssertionError: \"[',', ',', ',', ',', ',', ',', ',', ',',[516 chars]'z']\" != 'cadvea,dslkvtt,jwsjwhkx,lviswidv,moysx,o[68 chars]xpri'\n",
      "Diff is 679 characters long. Set self.maxDiff to None to see it. : Should be cadvea,dslkvtt,jwsjwhkx,lviswidv,moysx,ohsbqpbdi,oqicumd,stslkycu,swlmpwai,tdab,uxng,wfvdjep,yyuvaqib,zuqbcnxpri\n",
      "\n",
      "======================================================================\n",
      "FAIL: runTest (mod.testing.test_alpha.<locals>.TestKnown)\n",
      "----------------------------------------------------------------------\n",
      "Traceback (most recent call last):\n",
      "  File \"C:\\Users\\egcmo\\ironhack\\Labs\\lab-functions\\mod\\testing.py\", line 187, in runTest\n",
      "    self.assertEqual(fn(self.input), self.output, f\"Should be {self.output}\")\n",
      "AssertionError: \"[',', ',', ',', ',', ',', ',', ',', ',',[761 chars]'z']\" != 'cmsyffrj,cxoofk,dcmhxx,ffldbogm,gfczm,gl[117 chars]hhyr'\n",
      "Diff is 973 characters long. Set self.maxDiff to None to see it. : Should be cmsyffrj,cxoofk,dcmhxx,ffldbogm,gfczm,glytni,hqkovxd,jaalhvfk,jbplr,jjcfirtu,lxlwlgyi,nadr,poqsuvglfi,rhifyiaw,uxxbgcfim,vdlffek,xvyrfrqt,ycpeusrguo,ypter,zwhhyr\n",
      "\n",
      "======================================================================\n",
      "FAIL: runTest (mod.testing.test_alpha.<locals>.TestKnown)\n",
      "----------------------------------------------------------------------\n",
      "Traceback (most recent call last):\n",
      "  File \"C:\\Users\\egcmo\\ironhack\\Labs\\lab-functions\\mod\\testing.py\", line 187, in runTest\n",
      "    self.assertEqual(fn(self.input), self.output, f\"Should be {self.output}\")\n",
      "AssertionError: \"[',', ',', ',', ',', ',', ',', ',', ',',[776 chars]'z']\" != 'avij,ebyokfgxrw,flbbxfxs,fvxodakbjh,izel[120 chars]znky'\n",
      "Diff is 991 characters long. Set self.maxDiff to None to see it. : Should be avij,ebyokfgxrw,flbbxfxs,fvxodakbjh,izellz,jgnx,ldnsfus,mqnjrepo,nixsxviy,obyvzuialu,pffeo,pmrpc,pmxnortpum,psfaig,qdheva,rziaj,wbca,xcgiszpoiy,xpknpj,yulzjzrr,znky\n",
      "\n",
      "======================================================================\n",
      "FAIL: runTest (mod.testing.test_alpha.<locals>.TestKnown)\n",
      "----------------------------------------------------------------------\n",
      "Traceback (most recent call last):\n",
      "  File \"C:\\Users\\egcmo\\ironhack\\Labs\\lab-functions\\mod\\testing.py\", line 187, in runTest\n",
      "    self.assertEqual(fn(self.input), self.output, f\"Should be {self.output}\")\n",
      "AssertionError: \"[',', ',', ',', ',', ',', ',', ',', ',',[871 chars]'z']\" != 'addteiuo,dkdyxv,ghyt,ljlz,lvhh,mthb,nsfd[139 chars]zsog'\n",
      "Diff is 1105 characters long. Set self.maxDiff to None to see it. : Should be addteiuo,dkdyxv,ghyt,ljlz,lvhh,mthb,nsfdvgi,nzfjfkzcaw,pnukox,qanbtll,qnxwv,rkoqur,sjyhfb,tkcmt,tunlcfk,urohmk,utxadnjgmx,uupfqxmgxw,uvxhspu,vpzfxabw,wzszqlrwj,xbwjtdljst,yotflsd,zsog\n",
      "\n",
      "======================================================================\n",
      "FAIL: runTest (mod.testing.test_alpha.<locals>.TestKnown)\n",
      "----------------------------------------------------------------------\n",
      "Traceback (most recent call last):\n",
      "  File \"C:\\Users\\egcmo\\ironhack\\Labs\\lab-functions\\mod\\testing.py\", line 187, in runTest\n",
      "    self.assertEqual(fn(self.input), self.output, f\"Should be {self.output}\")\n",
      "AssertionError: \"[',', ',', ',', ',', ',', ',', ',', ',',[491 chars]'z']\" != 'awknbcn,cwtajx,fhkdl,fpaw,hapn,jsfq,krob[63 chars]ljqf'\n",
      "Diff is 649 characters long. Set self.maxDiff to None to see it. : Should be awknbcn,cwtajx,fhkdl,fpaw,hapn,jsfq,kroburmx,mdxkuv,okjajlc,oqpnobrukq,ozhlnowa,qzpdfr,rrjn,vrkgbb,zabbljqf\n",
      "\n",
      "======================================================================\n",
      "FAIL: runTest (mod.testing.test_alpha.<locals>.TestKnown)\n",
      "----------------------------------------------------------------------\n",
      "Traceback (most recent call last):\n",
      "  File \"C:\\Users\\egcmo\\ironhack\\Labs\\lab-functions\\mod\\testing.py\", line 187, in runTest\n",
      "    self.assertEqual(fn(self.input), self.output, f\"Should be {self.output}\")\n",
      "AssertionError: \"[',', ',', ',', ',', 'b', 'c', 'c', 'd',[136 chars]'z']\" != 'ctqri,deorssu,qqbps,rczjog,wumqjlptk'\n",
      "- [',', ',', ',', ',', 'b', 'c', 'c', 'd', 'e', 'g', 'i', 'j', 'j', 'k', 'l', 'm', 'o', 'o', 'p', 'p', 'q', 'q', 'q', 'q', 'r', 'r', 'r', 's', 's', 's', 't', 't', 'u', 'u', 'w', 'z']\n",
      "+ ctqri,deorssu,qqbps,rczjog,wumqjlptk\n",
      " : Should be ctqri,deorssu,qqbps,rczjog,wumqjlptk\n",
      "\n",
      "======================================================================\n",
      "FAIL: runTest (mod.testing.test_alpha.<locals>.TestKnown)\n",
      "----------------------------------------------------------------------\n",
      "Traceback (most recent call last):\n",
      "  File \"C:\\Users\\egcmo\\ironhack\\Labs\\lab-functions\\mod\\testing.py\", line 187, in runTest\n",
      "    self.assertEqual(fn(self.input), self.output, f\"Should be {self.output}\")\n",
      "AssertionError: \"[',', ',', ',', ',', ',', ',', ',', ',',[396 chars]'z']\" != 'asmcaw,ggeljwsc,iiqcxdp,kdrexpcwjh,nwpgm[44 chars]guca'\n",
      "- [',', ',', ',', ',', ',', ',', ',', ',', ',', ',', 'a', 'a', 'a', 'a', 'b', 'b', 'b', 'b', 'c', 'c', 'c', 'c', 'c', 'c', 'd', 'd', 'd', 'd', 'd', 'e', 'e', 'e', 'f', 'f', 'g', 'g', 'g', 'g', 'h', 'h', 'h', 'h', 'i', 'i', 'i', 'i', 'j', 'j', 'j', 'k', 'k', 'l', 'm', 'm', 'm', 'm', 'n', 'n', 'o', 'p', 'p', 'p', 'p', 'p', 'p', 'q', 'q', 'r', 'r', 'r', 's', 's', 't', 'u', 'u', 'u', 'u', 'w', 'w', 'w', 'w', 'w', 'x', 'x', 'x', 'y', 'z', 'z']\n",
      "+ asmcaw,ggeljwsc,iiqcxdp,kdrexpcwjh,nwpgm,pxuednpb,qhbmofzb,rabh,tcphimjf,uidukyw,zdrguca\n",
      " : Should be asmcaw,ggeljwsc,iiqcxdp,kdrexpcwjh,nwpgm,pxuednpb,qhbmofzb,rabh,tcphimjf,uidukyw,zdrguca\n",
      "\n",
      "======================================================================\n",
      "FAIL: runTest (mod.testing.test_alpha.<locals>.TestKnown)\n",
      "----------------------------------------------------------------------\n",
      "Traceback (most recent call last):\n",
      "  File \"C:\\Users\\egcmo\\ironhack\\Labs\\lab-functions\\mod\\testing.py\", line 187, in runTest\n",
      "    self.assertEqual(fn(self.input), self.output, f\"Should be {self.output}\")\n",
      "AssertionError: \"[',', ',', ',', ',', ',', ',', ',', ',',[786 chars]'z']\" != 'bgfkdgny,brbyzy,btspvvbff,cqjifgan,ggwsb[122 chars]crzx'\n",
      "Diff is 1003 characters long. Set self.maxDiff to None to see it. : Should be bgfkdgny,brbyzy,btspvvbff,cqjifgan,ggwsbol,lxocthoie,mbywpl,nrqjqdhnlu,ntzwfrd,qmby,qwtnaaygye,qzmrigsn,twisckwjn,uilobgmg,uklkvjzg,vjpemzqnjo,vjqla,wqovkzwa,zgadcrzx\n",
      "\n",
      "======================================================================\n",
      "FAIL: runTest (mod.testing.test_alpha.<locals>.TestKnown)\n",
      "----------------------------------------------------------------------\n",
      "Traceback (most recent call last):\n",
      "  File \"C:\\Users\\egcmo\\ironhack\\Labs\\lab-functions\\mod\\testing.py\", line 187, in runTest\n",
      "    self.assertEqual(fn(self.input), self.output, f\"Should be {self.output}\")\n",
      "AssertionError: \"[',', ',', ',', ',', ',', ',', ',', ',',[371 chars]'z']\" != 'cthxv,ffcem,gvcg,kkycsy,kznczwv,mmhkfanh[39 chars]uvrq'\n",
      "- [',', ',', ',', ',', ',', ',', ',', ',', ',', ',', 'a', 'a', 'b', 'b', 'c', 'c', 'c', 'c', 'c', 'c', 'd', 'e', 'f', 'f', 'f', 'f', 'g', 'g', 'g', 'g', 'g', 'h', 'h', 'h', 'h', 'i', 'i', 'j', 'j', 'k', 'k', 'k', 'k', 'l', 'l', 'm', 'm', 'm', 'm', 'n', 'n', 'o', 'o', 'o', 'o', 'p', 'q', 'q', 'r', 'r', 's', 's', 't', 't', 'u', 'v', 'v', 'v', 'v', 'v', 'v', 'v', 'v', 'w', 'w', 'w', 'x', 'y', 'y', 'y', 'z', 'z', 'z']\n",
      "+ cthxv,ffcem,gvcg,kkycsy,kznczwv,mmhkfanh,obsdqrvi,ovlihalgw,pgjmbfo,tjwcvvo,zgyuvrq\n",
      " : Should be cthxv,ffcem,gvcg,kkycsy,kznczwv,mmhkfanh,obsdqrvi,ovlihalgw,pgjmbfo,tjwcvvo,zgyuvrq\n",
      "\n"
     ]
    },
    {
     "name": "stderr",
     "output_type": "stream",
     "text": [
      "======================================================================\n",
      "FAIL: runTest (mod.testing.test_alpha.<locals>.TestKnown)\n",
      "----------------------------------------------------------------------\n",
      "Traceback (most recent call last):\n",
      "  File \"C:\\Users\\egcmo\\ironhack\\Labs\\lab-functions\\mod\\testing.py\", line 187, in runTest\n",
      "    self.assertEqual(fn(self.input), self.output, f\"Should be {self.output}\")\n",
      "AssertionError: \"[',', ',', ',', ',', 'a', 'a', 'b', 'e',[166 chars]'z']\" != 'ejhxpyh,fnzoua,iamlrxumbw,jrvwkpv,kxfsnsxz'\n",
      "- [',', ',', ',', ',', 'a', 'a', 'b', 'e', 'f', 'f', 'h', 'h', 'i', 'j', 'j', 'k', 'k', 'l', 'm', 'm', 'n', 'n', 'o', 'p', 'p', 'r', 'r', 's', 's', 'u', 'u', 'v', 'v', 'w', 'w', 'x', 'x', 'x', 'x', 'y', 'z', 'z']\n",
      "+ ejhxpyh,fnzoua,iamlrxumbw,jrvwkpv,kxfsnsxz\n",
      " : Should be ejhxpyh,fnzoua,iamlrxumbw,jrvwkpv,kxfsnsxz\n",
      "\n",
      "======================================================================\n",
      "FAIL: runTest (mod.testing.test_alpha.<locals>.TestKnown)\n",
      "----------------------------------------------------------------------\n",
      "Traceback (most recent call last):\n",
      "  File \"C:\\Users\\egcmo\\ironhack\\Labs\\lab-functions\\mod\\testing.py\", line 187, in runTest\n",
      "    self.assertEqual(fn(self.input), self.output, f\"Should be {self.output}\")\n",
      "AssertionError: \"[',', ',', ',', ',', ',', ',', ',', ',',[556 chars]'z']\" != 'aikwtmtiih,amdfnqxluf,cvbsdgyitv,dosx,ej[76 chars]utbt'\n",
      "Diff is 727 characters long. Set self.maxDiff to None to see it. : Should be aikwtmtiih,amdfnqxluf,cvbsdgyitv,dosx,ejnp,irdlykzote,lqyv,qhplvdsyk,qrpouj,rhdqeokndv,smcwfqfy,tipbn,vjjaux,ypey,ziutbt\n",
      "\n",
      "======================================================================\n",
      "FAIL: runTest (mod.testing.test_alpha.<locals>.TestKnown)\n",
      "----------------------------------------------------------------------\n",
      "Traceback (most recent call last):\n",
      "  File \"C:\\Users\\egcmo\\ironhack\\Labs\\lab-functions\\mod\\testing.py\", line 187, in runTest\n",
      "    self.assertEqual(fn(self.input), self.output, f\"Should be {self.output}\")\n",
      "AssertionError: \"[',', ',', ',', ',', ',', ',', ',', ',',[566 chars]'z']\" != 'bjpfoyepqj,cynmhpux,eqfngbpt,fmyhkxdvl,h[78 chars]oufz'\n",
      "Diff is 739 characters long. Set self.maxDiff to None to see it. : Should be bjpfoyepqj,cynmhpux,eqfngbpt,fmyhkxdvl,hdlwglotof,ikpgngdem,ilupic,ntbfy,soxqdg,ujrvyvxue,vmzmzfuynr,vonbuw,wtwareq,zxoufz\n",
      "\n",
      "======================================================================\n",
      "FAIL: runTest (mod.testing.test_alpha.<locals>.TestKnown)\n",
      "----------------------------------------------------------------------\n",
      "Traceback (most recent call last):\n",
      "  File \"C:\\Users\\egcmo\\ironhack\\Labs\\lab-functions\\mod\\testing.py\", line 187, in runTest\n",
      "    self.assertEqual(fn(self.input), self.output, f\"Should be {self.output}\")\n",
      "AssertionError: \"[',', ',', ',', ',', ',', ',', ',', 'a',[236 chars]'y']\" != 'aiaj,bchp,bcukbearp,cgatmn,evoo,qreylf,uvlqvpky,xbrxphrl'\n",
      "- [',', ',', ',', ',', ',', ',', ',', 'a', 'a', 'a', 'a', 'b', 'b', 'b', 'b', 'c', 'c', 'c', 'e', 'e', 'e', 'f', 'g', 'h', 'h', 'i', 'j', 'k', 'k', 'l', 'l', 'l', 'm', 'n', 'o', 'o', 'p', 'p', 'p', 'p', 'q', 'q', 'r', 'r', 'r', 'r', 't', 'u', 'u', 'v', 'v', 'v', 'x', 'x', 'y', 'y']\n",
      "+ aiaj,bchp,bcukbearp,cgatmn,evoo,qreylf,uvlqvpky,xbrxphrl\n",
      " : Should be aiaj,bchp,bcukbearp,cgatmn,evoo,qreylf,uvlqvpky,xbrxphrl\n",
      "\n",
      "======================================================================\n",
      "FAIL: runTest (mod.testing.test_alpha.<locals>.TestKnown)\n",
      "----------------------------------------------------------------------\n",
      "Traceback (most recent call last):\n",
      "  File \"C:\\Users\\egcmo\\ironhack\\Labs\\lab-functions\\mod\\testing.py\", line 187, in runTest\n",
      "    self.assertEqual(fn(self.input), self.output, f\"Should be {self.output}\")\n",
      "AssertionError: \"[',', ',', ',', ',', ',', ',', 'a', 'a',[261 chars]'z']\" != 'cwhfgvjgy,gdjfg,hhismoxsc,hqafgajdx,pbrv[17 chars]kvmz'\n",
      "- [',', ',', ',', ',', ',', ',', 'a', 'a', 'b', 'b', 'c', 'c', 'd', 'd', 'e', 'f', 'f', 'f', 'g', 'g', 'g', 'g', 'g', 'g', 'h', 'h', 'h', 'h', 'h', 'i', 'i', 'j', 'j', 'j', 'j', 'k', 'm', 'm', 'o', 'o', 'p', 'p', 'q', 'r', 'r', 's', 's', 's', 's', 't', 't', 'u', 'u', 'v', 'v', 'v', 'w', 'x', 'x', 'y', 'z']\n",
      "+ cwhfgvjgy,gdjfg,hhismoxsc,hqafgajdx,pbrvjr,stpsithug,ubeokvmz\n",
      " : Should be cwhfgvjgy,gdjfg,hhismoxsc,hqafgajdx,pbrvjr,stpsithug,ubeokvmz\n",
      "\n",
      "======================================================================\n",
      "FAIL: runTest (mod.testing.test_alpha.<locals>.TestKnown)\n",
      "----------------------------------------------------------------------\n",
      "Traceback (most recent call last):\n",
      "  File \"C:\\Users\\egcmo\\ironhack\\Labs\\lab-functions\\mod\\testing.py\", line 187, in runTest\n",
      "    self.assertEqual(fn(self.input), self.output, f\"Should be {self.output}\")\n",
      "AssertionError: \"[',', ',', ',', ',', ',', ',', ',', ',',[336 chars]'z']\" != 'ajjxikjpjo,bizw,dfgnyl,kempqrkzs,rchskod[32 chars]beqj'\n",
      "- [',', ',', ',', ',', ',', ',', ',', ',', 'a', 'a', 'b', 'b', 'c', 'c', 'd', 'd', 'd', 'e', 'e', 'f', 'f', 'f', 'g', 'g', 'g', 'g', 'h', 'h', 'h', 'i', 'i', 'j', 'j', 'j', 'j', 'j', 'j', 'k', 'k', 'k', 'k', 'k', 'k', 'l', 'l', 'l', 'm', 'm', 'n', 'o', 'o', 'p', 'p', 'p', 'q', 'q', 'q', 'q', 'q', 'r', 'r', 'r', 's', 's', 's', 't', 't', 'u', 'v', 'w', 'x', 'x', 'y', 'y', 'z', 'z']\n",
      "+ ajjxikjpjo,bizw,dfgnyl,kempqrkzs,rchskodllu,rhdqggp,sfqkcmjk,tghyaxqtf,vbeqj\n",
      " : Should be ajjxikjpjo,bizw,dfgnyl,kempqrkzs,rchskodllu,rhdqggp,sfqkcmjk,tghyaxqtf,vbeqj\n",
      "\n",
      "======================================================================\n",
      "FAIL: runTest (mod.testing.test_alpha.<locals>.TestKnown)\n",
      "----------------------------------------------------------------------\n",
      "Traceback (most recent call last):\n",
      "  File \"C:\\Users\\egcmo\\ironhack\\Labs\\lab-functions\\mod\\testing.py\", line 187, in runTest\n",
      "    self.assertEqual(fn(self.input), self.output, f\"Should be {self.output}\")\n",
      "AssertionError: \"[',', ',', ',', 'a', 'd', 'd', 'e', 'f',[111 chars]'y']\" != 'dkdy,fmtiaxes,nyquyph,xgkwwkglx'\n",
      "- [',', ',', ',', 'a', 'd', 'd', 'e', 'f', 'g', 'g', 'h', 'i', 'k', 'k', 'k', 'l', 'm', 'n', 'p', 'q', 's', 't', 'u', 'w', 'w', 'x', 'x', 'x', 'y', 'y', 'y']\n",
      "+ dkdy,fmtiaxes,nyquyph,xgkwwkglx\n",
      " : Should be dkdy,fmtiaxes,nyquyph,xgkwwkglx\n",
      "\n",
      "======================================================================\n",
      "FAIL: runTest (mod.testing.test_alpha.<locals>.TestKnown)\n",
      "----------------------------------------------------------------------\n",
      "Traceback (most recent call last):\n",
      "  File \"C:\\Users\\egcmo\\ironhack\\Labs\\lab-functions\\mod\\testing.py\", line 187, in runTest\n",
      "    self.assertEqual(fn(self.input), self.output, f\"Should be {self.output}\")\n",
      "AssertionError: \"[',', ',', ',', ',', ',', ',', ',', ',',[691 chars]'z']\" != 'agsou,bwlm,ccpkmn,ehzn,hlpzwfeoly,ibjj,j[103 chars]kblg'\n",
      "Diff is 889 characters long. Set self.maxDiff to None to see it. : Should be agsou,bwlm,ccpkmn,ehzn,hlpzwfeoly,ibjj,jknfpggoki,kogk,mydkyoqzk,myllij,nahdlw,ninqq,npnqqt,ohcfcq,omynxk,qlkfjysh,rgpusxai,ufnhwrcg,zolp,ztjlukblg\n",
      "\n",
      "======================================================================\n",
      "FAIL: runTest (mod.testing.test_alpha.<locals>.TestKnown)\n",
      "----------------------------------------------------------------------\n",
      "Traceback (most recent call last):\n",
      "  File \"C:\\Users\\egcmo\\ironhack\\Labs\\lab-functions\\mod\\testing.py\", line 187, in runTest\n",
      "    self.assertEqual(fn(self.input), self.output, f\"Should be {self.output}\")\n",
      "AssertionError: \"[',', ',', ',', ',', ',', ',', ',', ',',[476 chars]'z']\" != 'dldmvmatzi,fucv,kbvep,lzuxbzsvrz,nluwrk,[60 chars]pmaf'\n",
      "- [',', ',', ',', ',', ',', ',', ',', ',', ',', ',', ',', ',', 'a', 'a', 'a', 'b', 'b', 'b', 'b', 'b', 'b', 'c', 'c', 'c', 'c', 'd', 'd', 'd', 'd', 'd', 'd', 'd', 'e', 'e', 'e', 'f', 'f', 'g', 'g', 'g', 'h', 'h', 'i', 'j', 'j', 'j', 'k', 'k', 'k', 'l', 'l', 'l', 'm', 'm', 'm', 'm', 'm', 'm', 'n', 'n', 'n', 'n', 'o', 'o', 'p', 'p', 'p', 'q', 'r', 'r', 'r', 'r', 'r', 's', 's', 's', 's', 's', 't', 't', 't', 't', 'u', 'u', 'u', 'v', 'v', 'v', 'v', 'v', 'v', 'w', 'x', 'y', 'y', 'y', 'y', 'z', 'z', 'z', 'z', 'z', 'z', 'z']\n",
      "+ dldmvmatzi,fucv,kbvep,lzuxbzsvrz,nluwrk,nydbsd,oazesbg,ojcdjkyvgr,pbjnngdt,sembrv,ychmmhs,zqcytt,zrdpmaf\n",
      " : Should be dldmvmatzi,fucv,kbvep,lzuxbzsvrz,nluwrk,nydbsd,oazesbg,ojcdjkyvgr,pbjnngdt,sembrv,ychmmhs,zqcytt,zrdpmaf\n",
      "\n",
      "======================================================================\n",
      "FAIL: runTest (mod.testing.test_alpha.<locals>.TestKnown)\n",
      "----------------------------------------------------------------------\n",
      "Traceback (most recent call last):\n",
      "  File \"C:\\Users\\egcmo\\ironhack\\Labs\\lab-functions\\mod\\testing.py\", line 187, in runTest\n",
      "    self.assertEqual(fn(self.input), self.output, f\"Should be {self.output}\")\n",
      "AssertionError: \"[',', ',', ',', ',', ',', ',', ',', ',',[331 chars]'z']\" != 'avqpsmgzu,ervrqnni,ffjcbi,kfpl,mldcmmayx[31 chars]rbmq'\n",
      "- [',', ',', ',', ',', ',', ',', ',', ',', 'a', 'a', 'b', 'b', 'b', 'c', 'c', 'd', 'd', 'e', 'f', 'f', 'f', 'f', 'f', 'g', 'i', 'i', 'j', 'j', 'j', 'k', 'k', 'l', 'l', 'm', 'm', 'm', 'm', 'm', 'm', 'm', 'm', 'n', 'n', 'o', 'o', 'p', 'p', 'p', 'q', 'q', 'q', 'q', 'r', 'r', 'r', 'r', 's', 's', 't', 't', 't', 't', 'u', 'u', 'v', 'v', 'v', 'w', 'x', 'y', 'y', 'y', 'z', 'z', 'z']\n",
      "+ avqpsmgzu,ervrqnni,ffjcbi,kfpl,mldcmmayx,oqtsmfvfot,pzdmky,tbjjwmy,urztrbmq\n",
      " : Should be avqpsmgzu,ervrqnni,ffjcbi,kfpl,mldcmmayx,oqtsmfvfot,pzdmky,tbjjwmy,urztrbmq\n",
      "\n"
     ]
    },
    {
     "name": "stderr",
     "output_type": "stream",
     "text": [
      "======================================================================\n",
      "FAIL: runTest (mod.testing.test_alpha.<locals>.TestKnown)\n",
      "----------------------------------------------------------------------\n",
      "Traceback (most recent call last):\n",
      "  File \"C:\\Users\\egcmo\\ironhack\\Labs\\lab-functions\\mod\\testing.py\", line 187, in runTest\n",
      "    self.assertEqual(fn(self.input), self.output, f\"Should be {self.output}\")\n",
      "AssertionError: \"[',', ',', ',', ',', ',', ',', ',', ',',[811 chars]'z']\" != 'aqkbuhfuzl,bbmurxgghz,ihwuqjwxlt,ixdoimd[127 chars]xeii'\n",
      "Diff is 1033 characters long. Set self.maxDiff to None to see it. : Should be aqkbuhfuzl,bbmurxgghz,ihwuqjwxlt,ixdoimdvd,kkafrgryhv,lxwaiz,mebmmx,nazdt,nccqygrx,oodjyg,ortliklgq,qbhgrv,ueuqojji,ujtasv,uvfimbr,vhbv,xstpfawbdd,yjwbt,zrlmpeyh,zttqjxeii\n",
      "\n",
      "======================================================================\n",
      "FAIL: runTest (mod.testing.test_alpha.<locals>.TestKnown)\n",
      "----------------------------------------------------------------------\n",
      "Traceback (most recent call last):\n",
      "  File \"C:\\Users\\egcmo\\ironhack\\Labs\\lab-functions\\mod\\testing.py\", line 187, in runTest\n",
      "    self.assertEqual(fn(self.input), self.output, f\"Should be {self.output}\")\n",
      "AssertionError: \"[',', ',', ',', ',', ',', ',', ',', ',',[346 chars]'z']\" != 'atjvpfo,gvnb,hryrzudxr,kxsqt,nbbxqtgdo,p[34 chars]aacs'\n",
      "- [',', ',', ',', ',', ',', ',', ',', ',', 'a', 'a', 'a', 'a', 'b', 'b', 'b', 'b', 'c', 'c', 'd', 'd', 'e', 'f', 'f', 'f', 'f', 'g', 'g', 'g', 'g', 'h', 'h', 'i', 'i', 'i', 'j', 'k', 'k', 'l', 'm', 'n', 'n', 'n', 'n', 'o', 'o', 'o', 'o', 'o', 'o', 'p', 'p', 'q', 'q', 'r', 'r', 'r', 'r', 'r', 's', 's', 's', 't', 't', 't', 't', 'u', 'v', 'v', 'v', 'x', 'x', 'x', 'x', 'x', 'x', 'y', 'y', 'z']\n",
      "+ atjvpfo,gvnb,hryrzudxr,kxsqt,nbbxqtgdo,pofibxfm,snognookex,vflarcgtx,yrihiaacs\n",
      " : Should be atjvpfo,gvnb,hryrzudxr,kxsqt,nbbxqtgdo,pofibxfm,snognookex,vflarcgtx,yrihiaacs\n",
      "\n",
      "======================================================================\n",
      "FAIL: runTest (mod.testing.test_alpha.<locals>.TestKnown)\n",
      "----------------------------------------------------------------------\n",
      "Traceback (most recent call last):\n",
      "  File \"C:\\Users\\egcmo\\ironhack\\Labs\\lab-functions\\mod\\testing.py\", line 187, in runTest\n",
      "    self.assertEqual(fn(self.input), self.output, f\"Should be {self.output}\")\n",
      "AssertionError: \"[',', ',', ',', ',', ',', ',', ',', ',',[641 chars]'z']\" != 'blllhqo,civwpuvg,cpbdqij,crxdfucy,eqrt,f[93 chars]vynl'\n",
      "Diff is 829 characters long. Set self.maxDiff to None to see it. : Should be blllhqo,civwpuvg,cpbdqij,crxdfucy,eqrt,fqasketa,fzyowqihav,gkgwcfz,htpova,jxyykxehau,madiex,meutp,ofxnrve,oltnwt,otdrsz,skjcrak,sqvg,vynl\n",
      "\n",
      "======================================================================\n",
      "FAIL: runTest (mod.testing.test_alpha.<locals>.TestKnown)\n",
      "----------------------------------------------------------------------\n",
      "Traceback (most recent call last):\n",
      "  File \"C:\\Users\\egcmo\\ironhack\\Labs\\lab-functions\\mod\\testing.py\", line 187, in runTest\n",
      "    self.assertEqual(fn(self.input), self.output, f\"Should be {self.output}\")\n",
      "AssertionError: \"[',', ',', ',', ',', ',', ',', ',', ',',[591 chars]'z']\" != 'cjleykefat,dbdjkk,dkqinpjbi,ekhcwo,ffidw[83 chars]xqlo'\n",
      "Diff is 769 characters long. Set self.maxDiff to None to see it. : Should be cjleykefat,dbdjkk,dkqinpjbi,ekhcwo,ffidwhvsan,hsyfx,hyikqwun,jobpddccg,kfsww,lofbhcqx,ohdswnoxr,plzyy,xciicrmob,xhwtsenfxc,xqlo\n",
      "\n",
      "======================================================================\n",
      "FAIL: runTest (mod.testing.test_alpha.<locals>.TestKnown)\n",
      "----------------------------------------------------------------------\n",
      "Traceback (most recent call last):\n",
      "  File \"C:\\Users\\egcmo\\ironhack\\Labs\\lab-functions\\mod\\testing.py\", line 187, in runTest\n",
      "    self.assertEqual(fn(self.input), self.output, f\"Should be {self.output}\")\n",
      "AssertionError: \"[',', ',', ',', ',', ',', ',', ',', ',',[881 chars]'z']\" != 'amkgolmln,aviwocykgu,bcieasf,bneyebin,ca[141 chars]biqi'\n",
      "Diff is 1117 characters long. Set self.maxDiff to None to see it. : Should be amkgolmln,aviwocykgu,bcieasf,bneyebin,caqe,cjmxazpy,dydtsldtf,errstoedp,gfuz,hczo,idzty,iyflznyi,jmzomvfzw,jucbvolxk,mluqew,osaqnjpwmz,pjlbppm,pqzulktx,rhypuhkr,twizrp,vbksdyifkm,yjbiqi\n",
      "\n",
      "======================================================================\n",
      "FAIL: runTest (mod.testing.test_alpha.<locals>.TestKnown)\n",
      "----------------------------------------------------------------------\n",
      "Traceback (most recent call last):\n",
      "  File \"C:\\Users\\egcmo\\ironhack\\Labs\\lab-functions\\mod\\testing.py\", line 187, in runTest\n",
      "    self.assertEqual(fn(self.input), self.output, f\"Should be {self.output}\")\n",
      "AssertionError: \"[',', ',', ',', ',', ',', ',', ',', ',',[426 chars]'z']\" != 'beqhecg,ckundn,fpnfyyfxn,knwkntc,odzridf[50 chars]vzfo'\n",
      "- [',', ',', ',', ',', ',', ',', ',', ',', ',', ',', 'a', 'b', 'b', 'c', 'c', 'c', 'c', 'c', 'd', 'd', 'd', 'd', 'e', 'e', 'e', 'e', 'f', 'f', 'f', 'f', 'f', 'g', 'g', 'g', 'h', 'h', 'h', 'h', 'i', 'i', 'j', 'j', 'k', 'k', 'k', 'k', 'k', 'k', 'k', 'k', 'l', 'm', 'n', 'n', 'n', 'n', 'n', 'n', 'o', 'o', 'o', 'o', 'o', 'p', 'q', 'q', 'q', 'q', 'q', 'r', 'r', 's', 't', 't', 't', 'u', 'u', 'u', 'u', 'v', 'v', 'v', 'v', 'v', 'w', 'w', 'w', 'x', 'y', 'y', 'y', 'z', 'z', 'z']\n",
      "+ beqhecg,ckundn,fpnfyyfxn,knwkntc,odzridfkd,ovkuoqrsm,uqzgoacq,vhghyi,vlbweetkjt,vqcjhwukk,vzfo\n",
      " : Should be beqhecg,ckundn,fpnfyyfxn,knwkntc,odzridfkd,ovkuoqrsm,uqzgoacq,vhghyi,vlbweetkjt,vqcjhwukk,vzfo\n",
      "\n",
      "======================================================================\n",
      "FAIL: runTest (mod.testing.test_alpha.<locals>.TestKnown)\n",
      "----------------------------------------------------------------------\n",
      "Traceback (most recent call last):\n",
      "  File \"C:\\Users\\egcmo\\ironhack\\Labs\\lab-functions\\mod\\testing.py\", line 187, in runTest\n",
      "    self.assertEqual(fn(self.input), self.output, f\"Should be {self.output}\")\n",
      "AssertionError: \"[',', ',', ',', ',', ',', ',', ',', ',',[321 chars]'z']\" != 'aczbk,cdtcmckd,dpso,fvvu,kapxs,ntzee,oug[29 chars]ftld'\n",
      "- [',', ',', ',', ',', ',', ',', ',', ',', ',', ',', 'a', 'a', 'b', 'b', 'b', 'c', 'c', 'c', 'c', 'c', 'c', 'd', 'd', 'd', 'd', 'e', 'e', 'f', 'f', 'g', 'g', 'j', 'k', 'k', 'k', 'l', 'l', 'm', 'm', 'n', 'n', 'o', 'o', 'p', 'p', 'p', 'p', 'q', 'q', 'q', 'r', 'r', 's', 's', 's', 's', 't', 't', 't', 't', 't', 'u', 'u', 'u', 'v', 'v', 'v', 'w', 'x', 'x', 'z', 'z', 'z']\n",
      "+ aczbk,cdtcmckd,dpso,fvvu,kapxs,ntzee,ougtcm,qqubsx,qrnvpgb,rpczs,wljtftld\n",
      " : Should be aczbk,cdtcmckd,dpso,fvvu,kapxs,ntzee,ougtcm,qqubsx,qrnvpgb,rpczs,wljtftld\n",
      "\n",
      "======================================================================\n",
      "FAIL: runTest (mod.testing.test_alpha.<locals>.TestKnown)\n",
      "----------------------------------------------------------------------\n",
      "Traceback (most recent call last):\n",
      "  File \"C:\\Users\\egcmo\\ironhack\\Labs\\lab-functions\\mod\\testing.py\", line 187, in runTest\n",
      "    self.assertEqual(fn(self.input), self.output, f\"Should be {self.output}\")\n",
      "AssertionError: \"[',', ',', ',', ',', ',', ',', ',', ',',[721 chars]'z']\" != 'adtrmjzyu,cgxgfhpbrn,cikznktjb,ejihpgycl[109 chars]ctng'\n",
      "Diff is 925 characters long. Set self.maxDiff to None to see it. : Should be adtrmjzyu,cgxgfhpbrn,cikznktjb,ejihpgyclk,hieenvxswe,hzlenee,laeuqf,npynpysifq,nqlhsvmbd,numxrwooi,pfisjcau,phgtelwrkj,rype,urma,wflh,yrgzlz,zjejv,zrctng\n",
      "\n",
      "======================================================================\n",
      "FAIL: runTest (mod.testing.test_alpha.<locals>.TestKnown)\n",
      "----------------------------------------------------------------------\n",
      "Traceback (most recent call last):\n",
      "  File \"C:\\Users\\egcmo\\ironhack\\Labs\\lab-functions\\mod\\testing.py\", line 187, in runTest\n",
      "    self.assertEqual(fn(self.input), self.output, f\"Should be {self.output}\")\n",
      "AssertionError: \"[',', ',', ',', ',', ',', ',', ',', ',',[871 chars]'z']\" != 'bnsuplike,cclwbhe,fwzarxc,homdwnidjh,irf[139 chars]yqkb'\n",
      "Diff is 1105 characters long. Set self.maxDiff to None to see it. : Should be bnsuplike,cclwbhe,fwzarxc,homdwnidjh,irfulainnw,izyrgfk,khxrx,lfkxctgiqy,odthgtljqa,ovbnege,pnytcosps,pscxt,rapsdocnhm,rcszhu,tlpz,uutbngjkun,vagud,vgpmuau,wditaib,wtipid,yhljatx,yqkb\n",
      "\n",
      "======================================================================\n",
      "FAIL: runTest (mod.testing.test_alpha.<locals>.TestKnown)\n",
      "----------------------------------------------------------------------\n",
      "Traceback (most recent call last):\n",
      "  File \"C:\\Users\\egcmo\\ironhack\\Labs\\lab-functions\\mod\\testing.py\", line 187, in runTest\n",
      "    self.assertEqual(fn(self.input), self.output, f\"Should be {self.output}\")\n",
      "AssertionError: \"[',', ',', ',', ',', ',', ',', ',', ',',[856 chars]'z']\" != 'aowpyx,axxvmf,bwjhd,fngoj,fnzrluek,fppzj[136 chars]dcpj'\n",
      "Diff is 1087 characters long. Set self.maxDiff to None to see it. : Should be aowpyx,axxvmf,bwjhd,fngoj,fnzrluek,fppzjs,hgfsk,ibswiue,iiwgygkoo,imfbj,jndhfio,jprippj,kpjtsbxbs,kttbfk,lyxpvln,mzvpstupy,nxho,odyqtvlq,shdhpciu,vhqmxwuyxh,vhwfvbra,wmckefzk,zdcpj\n",
      "\n"
     ]
    },
    {
     "name": "stderr",
     "output_type": "stream",
     "text": [
      "======================================================================\n",
      "FAIL: runTest (mod.testing.test_alpha.<locals>.TestKnown)\n",
      "----------------------------------------------------------------------\n",
      "Traceback (most recent call last):\n",
      "  File \"C:\\Users\\egcmo\\ironhack\\Labs\\lab-functions\\mod\\testing.py\", line 187, in runTest\n",
      "    self.assertEqual(fn(self.input), self.output, f\"Should be {self.output}\")\n",
      "AssertionError: \"[',', ',', ',', ',', ',', ',', ',', ',',[401 chars]'z']\" != 'aahvf,dcqh,deafl,ezodqsjoi,javj,mgamuk,p[45 chars]kbqs'\n",
      "- [',', ',', ',', ',', ',', ',', ',', ',', ',', ',', ',', 'a', 'a', 'a', 'a', 'a', 'b', 'b', 'b', 'c', 'd', 'd', 'd', 'e', 'e', 'e', 'f', 'f', 'f', 'f', 'g', 'g', 'h', 'h', 'h', 'h', 'i', 'i', 'j', 'j', 'j', 'j', 'j', 'j', 'k', 'k', 'k', 'l', 'l', 'l', 'l', 'm', 'm', 'm', 'm', 'n', 'o', 'o', 'o', 'p', 'p', 'p', 'p', 'p', 'p', 'q', 'q', 'q', 'q', 'q', 'q', 'q', 'r', 's', 's', 's', 't', 'u', 'u', 'v', 'v', 'v', 'v', 'v', 'w', 'x', 'y', 'z', 'z']\n",
      "+ aahvf,dcqh,deafl,ezodqsjoi,javj,mgamuk,pijhqhluxn,pmylsfjq,pmzbqopg,rjvk,tflebwqp,vvpkbqs\n",
      " : Should be aahvf,dcqh,deafl,ezodqsjoi,javj,mgamuk,pijhqhluxn,pmylsfjq,pmzbqopg,rjvk,tflebwqp,vvpkbqs\n",
      "\n",
      "======================================================================\n",
      "FAIL: runTest (mod.testing.test_alpha.<locals>.TestKnown)\n",
      "----------------------------------------------------------------------\n",
      "Traceback (most recent call last):\n",
      "  File \"C:\\Users\\egcmo\\ironhack\\Labs\\lab-functions\\mod\\testing.py\", line 187, in runTest\n",
      "    self.assertEqual(fn(self.input), self.output, f\"Should be {self.output}\")\n",
      "AssertionError: \"[',', ',', ',', ',', ',', ',', ',', ',',[791 chars]'z']\" != 'bpoybrf,ctavp,eqegtyrid,fqtsutszi,fwcta,[123 chars]rxjj'\n",
      "Diff is 1009 characters long. Set self.maxDiff to None to see it. : Should be bpoybrf,ctavp,eqegtyrid,fqtsutszi,fwcta,fwkefrf,jnbjskqf,ltcnny,lzhtnwrscy,nlpopgfk,qjqlpzgm,sxug,tbvbbpz,tmbdy,uduz,utethecval,wasunun,wbpzjasbd,weedxrz,xiog,xkezrxjj\n",
      "\n",
      "======================================================================\n",
      "FAIL: runTest (mod.testing.test_alpha.<locals>.TestKnown)\n",
      "----------------------------------------------------------------------\n",
      "Traceback (most recent call last):\n",
      "  File \"C:\\Users\\egcmo\\ironhack\\Labs\\lab-functions\\mod\\testing.py\", line 187, in runTest\n",
      "    self.assertEqual(fn(self.input), self.output, f\"Should be {self.output}\")\n",
      "AssertionError: \"[',', ',', ',', ',', ',', ',', ',', ',',[466 chars]'z']\" != 'dbdtuua,eggg,eovyencxa,grjqsju,ilfstaxqz[58 chars]aojf'\n",
      "- [',', ',', ',', ',', ',', ',', ',', ',', ',', ',', ',', ',', ',', 'a', 'a', 'a', 'a', 'a', 'b', 'b', 'c', 'c', 'd', 'd', 'e', 'e', 'e', 'e', 'f', 'f', 'g', 'g', 'g', 'g', 'g', 'g', 'h', 'i', 'j', 'j', 'j', 'j', 'j', 'j', 'k', 'k', 'k', 'k', 'k', 'l', 'l', 'l', 'm', 'm', 'm', 'n', 'n', 'n', 'n', 'o', 'o', 'o', 'o', 'o', 'p', 'p', 'q', 'q', 'q', 'q', 'r', 'r', 'r', 's', 's', 't', 't', 't', 't', 't', 't', 'u', 'u', 'u', 'u', 'u', 'v', 'v', 'v', 'v', 'w', 'w', 'w', 'w', 'x', 'x', 'x', 'x', 'y', 'y', 'y', 'z']\n",
      "+ dbdtuua,eggg,eovyencxa,grjqsju,ilfstaxqzw,jtmryrj,kwtgoo,naup,qnomne,ujckwk,vhbkqkv,wxmtv,xtlgpl,yaojf\n",
      " : Should be dbdtuua,eggg,eovyencxa,grjqsju,ilfstaxqzw,jtmryrj,kwtgoo,naup,qnomne,ujckwk,vhbkqkv,wxmtv,xtlgpl,yaojf\n",
      "\n",
      "======================================================================\n",
      "FAIL: runTest (mod.testing.test_alpha.<locals>.TestKnown)\n",
      "----------------------------------------------------------------------\n",
      "Traceback (most recent call last):\n",
      "  File \"C:\\Users\\egcmo\\ironhack\\Labs\\lab-functions\\mod\\testing.py\", line 187, in runTest\n",
      "    self.assertEqual(fn(self.input), self.output, f\"Should be {self.output}\")\n",
      "AssertionError: \"[',', ',', ',', ',', ',', ',', ',', ',',[886 chars]'z']\" != 'awrsbjmdhw,cncsbqb,fappbtpxh,ghrf,gsgouk[142 chars]rlis'\n",
      "Diff is 1123 characters long. Set self.maxDiff to None to see it. : Should be awrsbjmdhw,cncsbqb,fappbtpxh,ghrf,gsgoukzzn,gsifmhsu,hndazo,mkmzncglwd,mnte,myyroe,nnqus,odudjye,pmpjs,prfpieklo,rrhjkvqimg,temutmsiv,unnlc,vbdpdxqkd,vzbon,wyyvxsib,xpdtc,yzznynnnu,zrlis\n",
      "\n",
      "======================================================================\n",
      "FAIL: runTest (mod.testing.test_alpha.<locals>.TestKnown)\n",
      "----------------------------------------------------------------------\n",
      "Traceback (most recent call last):\n",
      "  File \"C:\\Users\\egcmo\\ironhack\\Labs\\lab-functions\\mod\\testing.py\", line 187, in runTest\n",
      "    self.assertEqual(fn(self.input), self.output, f\"Should be {self.output}\")\n",
      "AssertionError: \"[',', ',', ',', ',', ',', ',', ',', ',',[726 chars]'z']\" != 'cdjti,evalmsxmc,gmgexysu,jjofrb,kcnezm,k[110 chars]wwzk'\n",
      "Diff is 931 characters long. Set self.maxDiff to None to see it. : Should be cdjti,evalmsxmc,gmgexysu,jjofrb,kcnezm,khlrrud,kifcte,ljpbfbo,myvkvncv,onwtqwrg,qptxy,rxcdw,uddktcfjvg,uppgnn,ustugnvsb,uwiflfqb,vmdydcdxu,vwvrz,wmbv,wwzk\n",
      "\n",
      "======================================================================\n",
      "FAIL: runTest (mod.testing.test_alpha.<locals>.TestKnown)\n",
      "----------------------------------------------------------------------\n",
      "Traceback (most recent call last):\n",
      "  File \"C:\\Users\\egcmo\\ironhack\\Labs\\lab-functions\\mod\\testing.py\", line 187, in runTest\n",
      "    self.assertEqual(fn(self.input), self.output, f\"Should be {self.output}\")\n",
      "AssertionError: \"[',', ',', ',', ',', ',', ',', ',', ',',[611 chars]'z']\" != 'cunvdzsn,dmbv,gvtcbifma,hnlmcco,iivrbsl,[87 chars]mvdw'\n",
      "Diff is 793 characters long. Set self.maxDiff to None to see it. : Should be cunvdzsn,dmbv,gvtcbifma,hnlmcco,iivrbsl,lpdefq,lpwmo,onmuyawjxy,qcsrnmqly,sbqkyuiqm,sknj,ujfrrmw,xejdyczlj,xoqawx,xwarwiun,ytksmvdw\n",
      "\n",
      "======================================================================\n",
      "FAIL: runTest (mod.testing.test_alpha.<locals>.TestKnown)\n",
      "----------------------------------------------------------------------\n",
      "Traceback (most recent call last):\n",
      "  File \"C:\\Users\\egcmo\\ironhack\\Labs\\lab-functions\\mod\\testing.py\", line 187, in runTest\n",
      "    self.assertEqual(fn(self.input), self.output, f\"Should be {self.output}\")\n",
      "AssertionError: \"[',', ',', ',', ',', ',', ',', ',', ',',[811 chars]'z']\" != 'amlcvnvn,dalaxh,dfwzbjfflp,dkktql,kazkdx[127 chars]esab'\n",
      "Diff is 1033 characters long. Set self.maxDiff to None to see it. : Should be amlcvnvn,dalaxh,dfwzbjfflp,dkktql,kazkdx,knxiikrhv,lizsmtyny,miuhfg,nxapiifm,pdnortyodk,phyayi,pxdshymxk,quwtsmht,rekwis,rmhh,sbcucvtv,syarcgk,tswwzggb,xsjn,yqfarkgd,zesab\n",
      "\n",
      "======================================================================\n",
      "FAIL: runTest (mod.testing.test_alpha.<locals>.TestKnown)\n",
      "----------------------------------------------------------------------\n",
      "Traceback (most recent call last):\n",
      "  File \"C:\\Users\\egcmo\\ironhack\\Labs\\lab-functions\\mod\\testing.py\", line 187, in runTest\n",
      "    self.assertEqual(fn(self.input), self.output, f\"Should be {self.output}\")\n",
      "AssertionError: \"[',', ',', ',', ',', ',', ',', ',', ',',[261 chars]'z']\" != 'aowgcva,flie,jodeuv,koznrewrn,nfjn,qfgws[17 chars]zgmc'\n",
      "- [',', ',', ',', ',', ',', ',', ',', ',', 'a', 'a', 'c', 'c', 'd', 'e', 'e', 'e', 'e', 'f', 'f', 'f', 'g', 'g', 'g', 'g', 'i', 'j', 'j', 'j', 'k', 'k', 'k', 'l', 'm', 'n', 'n', 'n', 'n', 'n', 'o', 'o', 'o', 'o', 'q', 'r', 'r', 's', 's', 's', 'u', 'u', 'u', 'v', 'v', 'w', 'w', 'w', 'w', 'x', 'x', 'z', 'z']\n",
      "+ aowgcva,flie,jodeuv,koznrewrn,nfjn,qfgws,sejns,ukguxkwox,zgmc\n",
      " : Should be aowgcva,flie,jodeuv,koznrewrn,nfjn,qfgws,sejns,ukguxkwox,zgmc\n",
      "\n",
      "======================================================================\n",
      "FAIL: runTest (mod.testing.test_alpha.<locals>.TestKnown)\n",
      "----------------------------------------------------------------------\n",
      "Traceback (most recent call last):\n",
      "  File \"C:\\Users\\egcmo\\ironhack\\Labs\\lab-functions\\mod\\testing.py\", line 187, in runTest\n",
      "    self.assertEqual(fn(self.input), self.output, f\"Should be {self.output}\")\n",
      "AssertionError: \"[',', ',', ',', ',', ',', ',', ',', ',',[781 chars]'z']\" != 'boxsokv,cccauto,cwzztme,defjolhso,ebmtcj[121 chars]kwvt'\n",
      "Diff is 997 characters long. Set self.maxDiff to None to see it. : Should be boxsokv,cccauto,cwzztme,defjolhso,ebmtcjnoz,fvpjhzx,ijyj,jqwpurbo,koiewlbyq,lckqhr,lipe,mkoewmzb,pvahdgx,qyez,rmdl,slbfsy,swiybdst,uqjxvivc,vqsewc,wuirjqkt,yxtoqkwvt\n",
      "\n",
      "======================================================================\n",
      "FAIL: runTest (mod.testing.test_alpha.<locals>.TestKnown)\n",
      "----------------------------------------------------------------------\n",
      "Traceback (most recent call last):\n",
      "  File \"C:\\Users\\egcmo\\ironhack\\Labs\\lab-functions\\mod\\testing.py\", line 187, in runTest\n",
      "    self.assertEqual(fn(self.input), self.output, f\"Should be {self.output}\")\n",
      "AssertionError: \"[',', ',', ',', ',', ',', ',', ',', 'a',[251 chars]'z']\" != 'eylr,hfeaxy,nnxvny,pftgca,qycetg,tsffkll[15 chars]uamb'\n",
      "- [',', ',', ',', ',', ',', ',', ',', 'a', 'a', 'a', 'b', 'c', 'c', 'c', 'e', 'e', 'e', 'f', 'f', 'f', 'f', 'g', 'g', 'g', 'g', 'h', 'h', 'i', 'k', 'l', 'l', 'l', 'm', 'm', 'n', 'n', 'n', 'p', 'q', 'q', 'r', 'r', 's', 't', 't', 't', 'u', 'u', 'v', 'v', 'w', 'x', 'x', 'y', 'y', 'y', 'y', 'y', 'z']\n",
      "+ eylr,hfeaxy,nnxvny,pftgca,qycetg,tsffkllqg,urzcmyiwhg,vuamb\n",
      " : Should be eylr,hfeaxy,nnxvny,pftgca,qycetg,tsffkllqg,urzcmyiwhg,vuamb\n",
      "\n"
     ]
    },
    {
     "name": "stderr",
     "output_type": "stream",
     "text": [
      "======================================================================\n",
      "FAIL: runTest (mod.testing.test_alpha.<locals>.TestKnown)\n",
      "----------------------------------------------------------------------\n",
      "Traceback (most recent call last):\n",
      "  File \"C:\\Users\\egcmo\\ironhack\\Labs\\lab-functions\\mod\\testing.py\", line 187, in runTest\n",
      "    self.assertEqual(fn(self.input), self.output, f\"Should be {self.output}\")\n",
      "AssertionError: \"[',', ',', ',', ',', ',', ',', ',', ',',[741 chars]'z']\" != 'cpaxyb,ejsauoogu,fjkbsmrhcm,gppirfarz,gu[113 chars]zjsw'\n",
      "Diff is 949 characters long. Set self.maxDiff to None to see it. : Should be cpaxyb,ejsauoogu,fjkbsmrhcm,gppirfarz,guuzzsdnb,iygujxehb,mcrdlfc,mditwyc,mfghnmzxt,qkqifbkvtm,qmngwcr,txkqpzzqhm,uohvpe,utryndpfph,xkhcbr,xxxnml,yjgsag,zjsw\n",
      "\n",
      "======================================================================\n",
      "FAIL: runTest (mod.testing.test_alpha.<locals>.TestKnown)\n",
      "----------------------------------------------------------------------\n",
      "Traceback (most recent call last):\n",
      "  File \"C:\\Users\\egcmo\\ironhack\\Labs\\lab-functions\\mod\\testing.py\", line 187, in runTest\n",
      "    self.assertEqual(fn(self.input), self.output, f\"Should be {self.output}\")\n",
      "AssertionError: \"[',', ',', ',', ',', ',', ',', ',', ',',[401 chars]'z']\" != 'bjcomb,dswti,gtptfck,ldno,mzqhqjgc,opbhz[45 chars]rkxd'\n",
      "- [',', ',', ',', ',', ',', ',', ',', ',', ',', ',', ',', 'a', 'b', 'b', 'b', 'c', 'c', 'c', 'd', 'd', 'd', 'd', 'f', 'g', 'g', 'g', 'h', 'h', 'h', 'i', 'i', 'i', 'j', 'j', 'k', 'k', 'l', 'm', 'm', 'm', 'n', 'n', 'n', 'n', 'o', 'o', 'o', 'o', 'o', 'p', 'p', 'p', 'p', 'q', 'q', 'q', 'q', 'q', 'q', 'r', 'r', 'r', 's', 's', 's', 't', 't', 't', 't', 't', 't', 'u', 'u', 'u', 'v', 'v', 'v', 'w', 'w', 'w', 'x', 'x', 'x', 'y', 'y', 'z', 'z', 'z', 'z']\n",
      "+ bjcomb,dswti,gtptfck,ldno,mzqhqjgc,opbhztit,ouwvt,qqrhasmur,swvzx,uvdnqx,yonznigpqp,yrkxd\n",
      " : Should be bjcomb,dswti,gtptfck,ldno,mzqhqjgc,opbhztit,ouwvt,qqrhasmur,swvzx,uvdnqx,yonznigpqp,yrkxd\n",
      "\n",
      "======================================================================\n",
      "FAIL: runTest (mod.testing.test_alpha.<locals>.TestKnown)\n",
      "----------------------------------------------------------------------\n",
      "Traceback (most recent call last):\n",
      "  File \"C:\\Users\\egcmo\\ironhack\\Labs\\lab-functions\\mod\\testing.py\", line 187, in runTest\n",
      "    self.assertEqual(fn(self.input), self.output, f\"Should be {self.output}\")\n",
      "AssertionError: \"[',', ',', ',', ',', ',', ',', ',', ',',[846 chars]'z']\" != 'ahbjsezh,aqib,aufdmxyveh,aycsyopyey,cjay[134 chars]sbhq'\n",
      "Diff is 1075 characters long. Set self.maxDiff to None to see it. : Should be ahbjsezh,aqib,aufdmxyveh,aycsyopyey,cjayubdu,cvcigvhwnj,dtbdll,faruy,fzfcg,jxscvknrkv,kmrqo,krmdukqius,natmyz,rhrmifwth,rlzrruk,torxgdb,ujooymgk,xfboli,xzspaje,ymetaxohyh,zmwsbhq\n",
      "\n",
      "======================================================================\n",
      "FAIL: runTest (mod.testing.test_alpha.<locals>.TestKnown)\n",
      "----------------------------------------------------------------------\n",
      "Traceback (most recent call last):\n",
      "  File \"C:\\Users\\egcmo\\ironhack\\Labs\\lab-functions\\mod\\testing.py\", line 187, in runTest\n",
      "    self.assertEqual(fn(self.input), self.output, f\"Should be {self.output}\")\n",
      "AssertionError: \"[',', ',', ',', ',', ',', ',', ',', 'a',[251 chars]'z']\" != 'adtzejzfb,biew,jshbb,jxri,ncepul,nymipi,[15 chars]sskq'\n",
      "- [',', ',', ',', ',', ',', ',', ',', 'a', 'b', 'b', 'b', 'b', 'c', 'c', 'd', 'e', 'e', 'e', 'f', 'h', 'i', 'i', 'i', 'i', 'j', 'j', 'j', 'j', 'k', 'k', 'l', 'l', 'l', 'm', 'n', 'n', 'o', 'p', 'p', 'p', 'p', 'q', 'r', 'r', 's', 's', 's', 't', 'u', 'u', 'u', 'v', 'w', 'w', 'x', 'y', 'z', 'z', 'z']\n",
      "+ adtzejzfb,biew,jshbb,jxri,ncepul,nymipi,oupjprckl,vuwlzsskq\n",
      " : Should be adtzejzfb,biew,jshbb,jxri,ncepul,nymipi,oupjprckl,vuwlzsskq\n",
      "\n",
      "======================================================================\n",
      "FAIL: runTest (mod.testing.test_alpha.<locals>.TestKnown)\n",
      "----------------------------------------------------------------------\n",
      "Traceback (most recent call last):\n",
      "  File \"C:\\Users\\egcmo\\ironhack\\Labs\\lab-functions\\mod\\testing.py\", line 187, in runTest\n",
      "    self.assertEqual(fn(self.input), self.output, f\"Should be {self.output}\")\n",
      "AssertionError: \"[',', ',', ',', ',', ',', ',', ',', ',',[951 chars]'z']\" != 'bhovcrdi,ckiylzyudc,dxoazc,gkdsq,gokaf,g[155 chars]jxts'\n",
      "Diff is 1201 characters long. Set self.maxDiff to None to see it. : Should be bhovcrdi,ckiylzyudc,dxoazc,gkdsq,gokaf,gpneag,kegzkew,kuisbahi,kyobklhsh,mgwsrpc,oeiukga,qljx,rbcdvqshss,sogkhsew,stuf,upcziesh,uqucpztat,uryb,uyctwaiarw,vnaneb,vzadli,xfybtrxazz,xvdcelqsq,yrwvuujxts\n",
      "\n",
      "======================================================================\n",
      "FAIL: runTest (mod.testing.test_alpha.<locals>.TestKnown)\n",
      "----------------------------------------------------------------------\n",
      "Traceback (most recent call last):\n",
      "  File \"C:\\Users\\egcmo\\ironhack\\Labs\\lab-functions\\mod\\testing.py\", line 187, in runTest\n",
      "    self.assertEqual(fn(self.input), self.output, f\"Should be {self.output}\")\n",
      "AssertionError: \"[',', ',', ',', ',', ',', ',', ',', ',',[496 chars]'z']\" != 'akvk,fgtk,gfwvy,idre,jjad,lojzzwu,neebmo[64 chars]nfpc'\n",
      "Diff is 655 characters long. Set self.maxDiff to None to see it. : Should be akvk,fgtk,gfwvy,idre,jjad,lojzzwu,neebmoiabp,ozllei,prjzjpmjes,qkhpe,rtttawhu,tsckwil,wyqeu,xwmkbps,yogcnfpc\n",
      "\n",
      "======================================================================\n",
      "FAIL: runTest (mod.testing.test_alpha.<locals>.TestKnown)\n",
      "----------------------------------------------------------------------\n",
      "Traceback (most recent call last):\n",
      "  File \"C:\\Users\\egcmo\\ironhack\\Labs\\lab-functions\\mod\\testing.py\", line 187, in runTest\n",
      "    self.assertEqual(fn(self.input), self.output, f\"Should be {self.output}\")\n",
      "AssertionError: \"[',', ',', ',', ',', ',', ',', ',', ',',[821 chars]'z']\" != 'agzlulkh,fuqsbwy,gcgowcvirb,hyebipk,jjnp[129 chars]usrb'\n",
      "Diff is 1045 characters long. Set self.maxDiff to None to see it. : Should be agzlulkh,fuqsbwy,gcgowcvirb,hyebipk,jjnpdlwy,ldslppynb,mcxs,nsgas,nxvv,okno,pgxtdtsgy,poslolvko,qxiujj,sbbuqnzxe,tvos,xlfwezwu,ygynhkpct,ynnfaollk,zbkrljr,zufkliqvxh,zveusrb\n",
      "\n",
      "======================================================================\n",
      "FAIL: runTest (mod.testing.test_alpha.<locals>.TestKnown)\n",
      "----------------------------------------------------------------------\n",
      "Traceback (most recent call last):\n",
      "  File \"C:\\Users\\egcmo\\ironhack\\Labs\\lab-functions\\mod\\testing.py\", line 187, in runTest\n",
      "    self.assertEqual(fn(self.input), self.output, f\"Should be {self.output}\")\n",
      "AssertionError: \"[',', ',', ',', ',', ',', ',', ',', ',',[426 chars]'z']\" != 'arlesn,dnmdauubrk,eadwljkimj,ghgdr,iboyf[50 chars]vovn'\n",
      "- [',', ',', ',', ',', ',', ',', ',', ',', ',', ',', 'a', 'a', 'a', 'a', 'a', 'a', 'b', 'b', 'c', 'c', 'd', 'd', 'd', 'd', 'd', 'e', 'e', 'e', 'f', 'f', 'g', 'g', 'g', 'h', 'h', 'i', 'i', 'i', 'j', 'j', 'j', 'j', 'j', 'j', 'k', 'k', 'l', 'l', 'l', 'l', 'l', 'm', 'm', 'm', 'm', 'n', 'n', 'n', 'n', 'o', 'o', 'o', 'o', 'p', 'p', 'p', 'p', 'q', 'q', 'q', 'r', 'r', 'r', 'r', 'r', 's', 's', 's', 's', 't', 't', 't', 'u', 'u', 'u', 'v', 'v', 'v', 'w', 'x', 'x', 'y', 'y', 'z']\n",
      "+ arlesn,dnmdauubrk,eadwljkimj,ghgdr,iboyfjsqzx,ltaloq,pftyclp,psxsmjvpan,qcmdrguh,teojjria,vovn\n",
      " : Should be arlesn,dnmdauubrk,eadwljkimj,ghgdr,iboyfjsqzx,ltaloq,pftyclp,psxsmjvpan,qcmdrguh,teojjria,vovn\n",
      "\n",
      "======================================================================\n",
      "FAIL: runTest (mod.testing.test_alpha.<locals>.TestKnown)\n",
      "----------------------------------------------------------------------\n",
      "Traceback (most recent call last):\n",
      "  File \"C:\\Users\\egcmo\\ironhack\\Labs\\lab-functions\\mod\\testing.py\", line 187, in runTest\n",
      "    self.assertEqual(fn(self.input), self.output, f\"Should be {self.output}\")\n",
      "AssertionError: \"[',', ',', ',', ',', ',', ',', ',', ',',[996 chars]'z']\" != 'aoxdzvlpgl,dtxupzfx,ebredu,fdnvmsu,ffhrm[164 chars]zmca'\n",
      "Diff is 1255 characters long. Set self.maxDiff to None to see it. : Should be aoxdzvlpgl,dtxupzfx,ebredu,fdnvmsu,ffhrmlp,hknkwemr,hvuidcof,hwzwt,imulqh,kmpymwoxwz,nggdrmthz,nkcu,odbnksah,qhfebp,qjfojfle,qzysyeilvf,sxvkbxeo,wekyrcj,xaepyqufkc,xxzh,yiimpnns,zeatjzf,zggwdgo,zldkyzdpc,zmca\n",
      "\n",
      "======================================================================\n",
      "FAIL: runTest (mod.testing.test_alpha.<locals>.TestKnown)\n",
      "----------------------------------------------------------------------\n",
      "Traceback (most recent call last):\n",
      "  File \"C:\\Users\\egcmo\\ironhack\\Labs\\lab-functions\\mod\\testing.py\", line 187, in runTest\n",
      "    self.assertEqual(fn(self.input), self.output, f\"Should be {self.output}\")\n",
      "AssertionError: \"[',', ',', ',', ',', ',', ',', ',', ',',[831 chars]'z']\" != 'axwusrtxc,braqxi,btibsgqein,cncgjxje,drr[131 chars]wtly'\n",
      "Diff is 1057 characters long. Set self.maxDiff to None to see it. : Should be axwusrtxc,braqxi,btibsgqein,cncgjxje,drryljzhsp,elflou,grwmfs,lenmsckvw,mcxllvu,mwyqu,nnbvqv,obmt,oetdgn,oqfsvvsp,pztq,sfdm,svluha,tvylypfkd,uclbgusz,uviibwkw,vjhjkreyj,xwwtly\n",
      "\n"
     ]
    },
    {
     "name": "stderr",
     "output_type": "stream",
     "text": [
      "======================================================================\n",
      "FAIL: runTest (mod.testing.test_alpha.<locals>.TestKnown)\n",
      "----------------------------------------------------------------------\n",
      "Traceback (most recent call last):\n",
      "  File \"C:\\Users\\egcmo\\ironhack\\Labs\\lab-functions\\mod\\testing.py\", line 187, in runTest\n",
      "    self.assertEqual(fn(self.input), self.output, f\"Should be {self.output}\")\n",
      "AssertionError: \"[',', ',', ',', ',', ',', 'b', 'c', 'c',[211 chars]'z']\" != 'cugxknxpl,fsxtx,hnhtktwbxk,pylsldqi,qeyxleszzo,xgcr'\n",
      "- [',', ',', ',', ',', ',', 'b', 'c', 'c', 'd', 'e', 'e', 'f', 'g', 'g', 'h', 'h', 'i', 'k', 'k', 'k', 'l', 'l', 'l', 'l', 'n', 'n', 'o', 'p', 'p', 'q', 'q', 'r', 's', 's', 's', 't', 't', 't', 'u', 'w', 'x', 'x', 'x', 'x', 'x', 'x', 'x', 'y', 'y', 'z', 'z']\n",
      "+ cugxknxpl,fsxtx,hnhtktwbxk,pylsldqi,qeyxleszzo,xgcr\n",
      " : Should be cugxknxpl,fsxtx,hnhtktwbxk,pylsldqi,qeyxleszzo,xgcr\n",
      "\n",
      "======================================================================\n",
      "FAIL: runTest (mod.testing.test_alpha.<locals>.TestKnown)\n",
      "----------------------------------------------------------------------\n",
      "Traceback (most recent call last):\n",
      "  File \"C:\\Users\\egcmo\\ironhack\\Labs\\lab-functions\\mod\\testing.py\", line 187, in runTest\n",
      "    self.assertEqual(fn(self.input), self.output, f\"Should be {self.output}\")\n",
      "AssertionError: \"[',', ',', ',', ',', ',', ',', ',', ',',[281 chars]'z']\" != 'atkjsth,bboeq,bzhbrwqr,ciku,difaiwo,lfit[21 chars]zskf'\n",
      "- [',', ',', ',', ',', ',', ',', ',', ',', 'a', 'a', 'b', 'b', 'b', 'b', 'b', 'b', 'c', 'd', 'e', 'f', 'f', 'f', 'f', 'h', 'h', 'i', 'i', 'i', 'i', 'j', 'k', 'k', 'k', 'k', 'k', 'l', 'm', 'm', 'm', 'o', 'o', 'o', 'o', 'q', 'q', 'r', 'r', 's', 's', 't', 't', 't', 't', 't', 't', 'u', 'u', 'v', 'w', 'w', 'x', 'z', 'z', 'z', 'z']\n",
      "+ atkjsth,bboeq,bzhbrwqr,ciku,difaiwo,lfitokttf,uxbbk,zmomm,zvtzskf\n",
      " : Should be atkjsth,bboeq,bzhbrwqr,ciku,difaiwo,lfitokttf,uxbbk,zmomm,zvtzskf\n",
      "\n",
      "======================================================================\n",
      "FAIL: runTest (mod.testing.test_alpha.<locals>.TestKnown)\n",
      "----------------------------------------------------------------------\n",
      "Traceback (most recent call last):\n",
      "  File \"C:\\Users\\egcmo\\ironhack\\Labs\\lab-functions\\mod\\testing.py\", line 187, in runTest\n",
      "    self.assertEqual(fn(self.input), self.output, f\"Should be {self.output}\")\n",
      "AssertionError: \"[',', ',', ',', ',', ',', ',', 'a', 'a',[291 chars]'z']\" != 'gkftudkj,ixumxacske,lgjforbuyz,pcpfnh,sj[23 chars]tjxy'\n",
      "- [',', ',', ',', ',', ',', ',', 'a', 'a', 'b', 'c', 'c', 'd', 'd', 'e', 'f', 'f', 'f', 'f', 'g', 'g', 'g', 'h', 'i', 'i', 'i', 'j', 'j', 'j', 'j', 'k', 'k', 'k', 'k', 'k', 'l', 'm', 'm', 'n', 'n', 'n', 'o', 'p', 'p', 'q', 'r', 'r', 's', 's', 's', 't', 't', 't', 'u', 'u', 'u', 'u', 'v', 'w', 'x', 'x', 'x', 'x', 'x', 'y', 'y', 'z', 'z']\n",
      "+ gkftudkj,ixumxacske,lgjforbuyz,pcpfnh,sjfmqvdsgi,xatnuzkkrn,xiwtjxy\n",
      " : Should be gkftudkj,ixumxacske,lgjforbuyz,pcpfnh,sjfmqvdsgi,xatnuzkkrn,xiwtjxy\n",
      "\n",
      "======================================================================\n",
      "FAIL: runTest (mod.testing.test_alpha.<locals>.TestKnown)\n",
      "----------------------------------------------------------------------\n",
      "Traceback (most recent call last):\n",
      "  File \"C:\\Users\\egcmo\\ironhack\\Labs\\lab-functions\\mod\\testing.py\", line 187, in runTest\n",
      "    self.assertEqual(fn(self.input), self.output, f\"Should be {self.output}\")\n",
      "AssertionError: \"[',', ',', ',', ',', ',', ',', ',', ',',[551 chars]'z']\" != 'dizwm,geah,gyfjeza,hjageikmv,oljmq,pfaxv[75 chars]ytnt'\n",
      "Diff is 721 characters long. Set self.maxDiff to None to see it. : Should be dizwm,geah,gyfjeza,hjageikmv,oljmq,pfaxvlqn,qeoutyvbso,tfzuloua,tmlryqjta,uxdp,wvymjg,xmpvqywtl,ybtwphslkv,yelguvi,ytnt\n",
      "\n",
      "======================================================================\n",
      "FAIL: runTest (mod.testing.test_alpha.<locals>.TestKnown)\n",
      "----------------------------------------------------------------------\n",
      "Traceback (most recent call last):\n",
      "  File \"C:\\Users\\egcmo\\ironhack\\Labs\\lab-functions\\mod\\testing.py\", line 187, in runTest\n",
      "    self.assertEqual(fn(self.input), self.output, f\"Should be {self.output}\")\n",
      "AssertionError: \"[',', ',', ',', ',', ',', ',', ',', ',',[566 chars]'z']\" != 'biaugrjerw,cqitwfh,dbhhjpzm,dfcytrn,esig[78 chars]yulx'\n",
      "Diff is 739 characters long. Set self.maxDiff to None to see it. : Should be biaugrjerw,cqitwfh,dbhhjpzm,dfcytrn,esigxv,fcuuhp,frzhjqlvf,gbcjflcp,gblrz,ibcwmyzxw,jyovtx,knoycktzv,thllmxc,wwiaxo,yyulx\n",
      "\n",
      "======================================================================\n",
      "FAIL: runTest (mod.testing.test_alpha.<locals>.TestKnown)\n",
      "----------------------------------------------------------------------\n",
      "Traceback (most recent call last):\n",
      "  File \"C:\\Users\\egcmo\\ironhack\\Labs\\lab-functions\\mod\\testing.py\", line 187, in runTest\n",
      "    self.assertEqual(fn(self.input), self.output, f\"Should be {self.output}\")\n",
      "AssertionError: \"[',', ',', ',', ',', ',', ',', ',', ',',[471 chars]'z']\" != 'avdlas,blgriw,hxgbjqeior,nzfs,qtnnx,rcqz[59 chars]opas'\n",
      "- [',', ',', ',', ',', ',', ',', ',', ',', ',', ',', ',', ',', ',', 'a', 'a', 'a', 'a', 'a', 'a', 'b', 'b', 'b', 'b', 'c', 'c', 'd', 'd', 'e', 'e', 'e', 'e', 'f', 'f', 'g', 'g', 'h', 'h', 'i', 'i', 'i', 'j', 'j', 'j', 'j', 'j', 'j', 'k', 'k', 'k', 'k', 'l', 'l', 'l', 'n', 'n', 'n', 'n', 'n', 'n', 'o', 'o', 'p', 'q', 'q', 'q', 'r', 'r', 'r', 'r', 's', 's', 's', 's', 's', 't', 't', 't', 't', 't', 't', 'u', 'v', 'v', 'v', 'w', 'w', 'w', 'w', 'w', 'x', 'x', 'x', 'x', 'x', 'x', 'y', 'y', 'y', 'z', 'z', 'z', 'z', 'z']\n",
      "+ avdlas,blgriw,hxgbjqeior,nzfs,qtnnx,rcqzz,rjazwewy,snyx,tlbnakdjh,tvxxstkj,tzabc,wujje,xwikkfetvn,yopas\n",
      " : Should be avdlas,blgriw,hxgbjqeior,nzfs,qtnnx,rcqzz,rjazwewy,snyx,tlbnakdjh,tvxxstkj,tzabc,wujje,xwikkfetvn,yopas\n",
      "\n",
      "======================================================================\n",
      "FAIL: runTest (mod.testing.test_alpha.<locals>.TestKnown)\n",
      "----------------------------------------------------------------------\n",
      "Traceback (most recent call last):\n",
      "  File \"C:\\Users\\egcmo\\ironhack\\Labs\\lab-functions\\mod\\testing.py\", line 187, in runTest\n",
      "    self.assertEqual(fn(self.input), self.output, f\"Should be {self.output}\")\n",
      "AssertionError: \"[',', ',', ',', ',', ',', 'a', 'b', 'c',[186 chars]'x']\" != 'cxunnt,gknaso,nkirbxfww,okxcge,qtjhk,tkqvrsewo'\n",
      "- [',', ',', ',', ',', ',', 'a', 'b', 'c', 'c', 'e', 'e', 'f', 'g', 'g', 'h', 'i', 'j', 'k', 'k', 'k', 'k', 'k', 'n', 'n', 'n', 'n', 'o', 'o', 'o', 'q', 'q', 'r', 'r', 's', 's', 't', 't', 't', 'u', 'v', 'w', 'w', 'w', 'x', 'x', 'x']\n",
      "+ cxunnt,gknaso,nkirbxfww,okxcge,qtjhk,tkqvrsewo\n",
      " : Should be cxunnt,gknaso,nkirbxfww,okxcge,qtjhk,tkqvrsewo\n",
      "\n",
      "======================================================================\n",
      "FAIL: runTest (mod.testing.test_alpha.<locals>.TestKnown)\n",
      "----------------------------------------------------------------------\n",
      "Traceback (most recent call last):\n",
      "  File \"C:\\Users\\egcmo\\ironhack\\Labs\\lab-functions\\mod\\testing.py\", line 187, in runTest\n",
      "    self.assertEqual(fn(self.input), self.output, f\"Should be {self.output}\")\n",
      "AssertionError: \"[',', ',', ',', ',', ',', ',', ',', ',',[671 chars]'z']\" != 'chxbjxm,cmqtns,cmuvezbb,dqnuczyhg,epmyoi[99 chars]niqq'\n",
      "Diff is 865 characters long. Set self.maxDiff to None to see it. : Should be chxbjxm,cmqtns,cmuvezbb,dqnuczyhg,epmyoi,fqhh,kqhollh,ljjwztfd,lsrpxhghy,ojorugsk,pxrbok,rutecu,snob,xvghepskd,xyyhitgtn,ysueke,ytqfwm,yvzqniqq\n",
      "\n",
      "======================================================================\n",
      "FAIL: runTest (mod.testing.test_alpha.<locals>.TestKnown)\n",
      "----------------------------------------------------------------------\n",
      "Traceback (most recent call last):\n",
      "  File \"C:\\Users\\egcmo\\ironhack\\Labs\\lab-functions\\mod\\testing.py\", line 187, in runTest\n",
      "    self.assertEqual(fn(self.input), self.output, f\"Should be {self.output}\")\n",
      "AssertionError: \"[',', ',', ',', ',', ',', ',', ',', ',',[781 chars]'z']\" != 'bahwk,cipcxgwt,ckoyosfqe,dvqve,geqe,hdgr[121 chars]gpyb'\n",
      "Diff is 997 characters long. Set self.maxDiff to None to see it. : Should be bahwk,cipcxgwt,ckoyosfqe,dvqve,geqe,hdgrtldgu,iacqmnnyz,jhmhjby,jjhn,kxmubat,lkmpmbetgb,lxde,sgnmp,svfc,tnqpqvyly,tweol,vtdmlqwhh,xbvyb,xftwvzgpe,xvjf,yervyd,zpigpyb\n",
      "\n",
      "======================================================================\n",
      "FAIL: runTest (mod.testing.test_alpha.<locals>.TestKnown)\n",
      "----------------------------------------------------------------------\n",
      "Traceback (most recent call last):\n",
      "  File \"C:\\Users\\egcmo\\ironhack\\Labs\\lab-functions\\mod\\testing.py\", line 187, in runTest\n",
      "    self.assertEqual(fn(self.input), self.output, f\"Should be {self.output}\")\n",
      "AssertionError: \"[',', ',', ',', ',', ',', ',', ',', ',',[576 chars]'z']\" != 'dixgjrxp,djqrys,dpryabb,dxqn,eksv,ghep,g[80 chars]alvk'\n",
      "Diff is 751 characters long. Set self.maxDiff to None to see it. : Should be dixgjrxp,djqrys,dpryabb,dxqn,eksv,ghep,gnliy,iiyv,iwdrpnfyqp,ldsngdeb,moyxuap,mvnh,ndzsxbgxsl,potoweu,rriph,sqncd,ujmq,yalvk\n",
      "\n"
     ]
    },
    {
     "name": "stderr",
     "output_type": "stream",
     "text": [
      "======================================================================\n",
      "FAIL: runTest (mod.testing.test_alpha.<locals>.TestKnown)\n",
      "----------------------------------------------------------------------\n",
      "Traceback (most recent call last):\n",
      "  File \"C:\\Users\\egcmo\\ironhack\\Labs\\lab-functions\\mod\\testing.py\", line 187, in runTest\n",
      "    self.assertEqual(fn(self.input), self.output, f\"Should be {self.output}\")\n",
      "AssertionError: \"[',', ',', ',', ',', ',', ',', ',', ',',[616 chars]'z']\" != 'bqpadrvjr,brozti,cmofev,dbhqfwuiw,ggtlji[88 chars]urvv'\n",
      "Diff is 799 characters long. Set self.maxDiff to None to see it. : Should be bqpadrvjr,brozti,cmofev,dbhqfwuiw,ggtljixgg,gigs,iqgj,jqloh,lbuptjm,ltbcjwf,mfrrs,mirj,olkrs,pwolwzeo,qeqsyn,utkwcmblrh,wfwn,xzpurvv\n",
      "\n",
      "======================================================================\n",
      "FAIL: runTest (mod.testing.test_alpha.<locals>.TestKnown)\n",
      "----------------------------------------------------------------------\n",
      "Traceback (most recent call last):\n",
      "  File \"C:\\Users\\egcmo\\ironhack\\Labs\\lab-functions\\mod\\testing.py\", line 187, in runTest\n",
      "    self.assertEqual(fn(self.input), self.output, f\"Should be {self.output}\")\n",
      "AssertionError: \"[',', ',', ',', ',', ',', ',', ',', ',',[566 chars]'z']\" != 'ayssrp,cmzykncuil,fqrshq,fqztljtism,ifjp[78 chars]gtwq'\n",
      "Diff is 739 characters long. Set self.maxDiff to None to see it. : Should be ayssrp,cmzykncuil,fqrshq,fqztljtism,ifjpalfnj,iwdls,jvtixn,kkcibm,nhzcwjcl,ntdnsegyr,raxw,rhwxin,rknbpywbis,sien,xvenlgtwq\n",
      "\n",
      "======================================================================\n",
      "FAIL: runTest (mod.testing.test_alpha.<locals>.TestKnown)\n",
      "----------------------------------------------------------------------\n",
      "Traceback (most recent call last):\n",
      "  File \"C:\\Users\\egcmo\\ironhack\\Labs\\lab-functions\\mod\\testing.py\", line 187, in runTest\n",
      "    self.assertEqual(fn(self.input), self.output, f\"Should be {self.output}\")\n",
      "AssertionError: \"[',', ',', ',', ',', ',', 'b', 'b', 'b',[201 chars]'z']\" != 'dgve,esbbo,ocpfgsroor,omtytkepdz,soqmp,zhqfbhjpmb'\n",
      "- [',', ',', ',', ',', ',', 'b', 'b', 'b', 'b', 'c', 'd', 'd', 'e', 'e', 'e', 'f', 'f', 'g', 'g', 'h', 'h', 'j', 'k', 'm', 'm', 'm', 'o', 'o', 'o', 'o', 'o', 'o', 'p', 'p', 'p', 'p', 'q', 'q', 'r', 'r', 's', 's', 's', 't', 't', 'v', 'y', 'z', 'z']\n",
      "+ dgve,esbbo,ocpfgsroor,omtytkepdz,soqmp,zhqfbhjpmb\n",
      " : Should be dgve,esbbo,ocpfgsroor,omtytkepdz,soqmp,zhqfbhjpmb\n",
      "\n",
      "======================================================================\n",
      "FAIL: runTest (mod.testing.test_alpha.<locals>.TestKnown)\n",
      "----------------------------------------------------------------------\n",
      "Traceback (most recent call last):\n",
      "  File \"C:\\Users\\egcmo\\ironhack\\Labs\\lab-functions\\mod\\testing.py\", line 187, in runTest\n",
      "    self.assertEqual(fn(self.input), self.output, f\"Should be {self.output}\")\n",
      "AssertionError: \"[',', ',', ',', ',', ',', ',', ',', ',',[541 chars]'z']\" != 'avqstluqvm,ewwm,fwuvmgdfb,ggllvrbsy,ilix[73 chars]ksua'\n",
      "Diff is 709 characters long. Set self.maxDiff to None to see it. : Should be avqstluqvm,ewwm,fwuvmgdfb,ggllvrbsy,ilix,izsbgsi,jfwf,jhtaxlc,oqkw,scbrbqaugt,volpi,vytz,wdmgkmzklg,ydejdjqdv,yrfksua\n",
      "\n",
      "======================================================================\n",
      "FAIL: runTest (mod.testing.test_alpha.<locals>.TestKnown)\n",
      "----------------------------------------------------------------------\n",
      "Traceback (most recent call last):\n",
      "  File \"C:\\Users\\egcmo\\ironhack\\Labs\\lab-functions\\mod\\testing.py\", line 187, in runTest\n",
      "    self.assertEqual(fn(self.input), self.output, f\"Should be {self.output}\")\n",
      "AssertionError: \"[',', ',', ',', ',', 'a', 'b', 'b', 'b',[161 chars]'y']\" != 'fcqyj,fyqxwb,pjlfnagc,sieybkbjt,tbufljoix'\n",
      "- [',', ',', ',', ',', 'a', 'b', 'b', 'b', 'b', 'c', 'c', 'e', 'f', 'f', 'f', 'f', 'g', 'i', 'i', 'j', 'j', 'j', 'j', 'k', 'l', 'l', 'n', 'o', 'p', 'q', 'q', 's', 't', 't', 'u', 'w', 'x', 'x', 'y', 'y', 'y']\n",
      "+ fcqyj,fyqxwb,pjlfnagc,sieybkbjt,tbufljoix\n",
      " : Should be fcqyj,fyqxwb,pjlfnagc,sieybkbjt,tbufljoix\n",
      "\n",
      "======================================================================\n",
      "FAIL: runTest (mod.testing.test_alpha.<locals>.TestKnown)\n",
      "----------------------------------------------------------------------\n",
      "Traceback (most recent call last):\n",
      "  File \"C:\\Users\\egcmo\\ironhack\\Labs\\lab-functions\\mod\\testing.py\", line 187, in runTest\n",
      "    self.assertEqual(fn(self.input), self.output, f\"Should be {self.output}\")\n",
      "AssertionError: \"[',', ',', ',', ',', ',', 'b', 'c', 'c',[166 chars]'z']\" != 'egsr,ibjxcg,lxxsmu,nkrucm,tmeihsufyk,zjvdr'\n",
      "- [',', ',', ',', ',', ',', 'b', 'c', 'c', 'd', 'e', 'e', 'f', 'g', 'g', 'h', 'i', 'i', 'j', 'j', 'k', 'k', 'l', 'm', 'm', 'm', 'n', 'r', 'r', 'r', 's', 's', 's', 't', 'u', 'u', 'u', 'v', 'x', 'x', 'x', 'y', 'z']\n",
      "+ egsr,ibjxcg,lxxsmu,nkrucm,tmeihsufyk,zjvdr\n",
      " : Should be egsr,ibjxcg,lxxsmu,nkrucm,tmeihsufyk,zjvdr\n",
      "\n",
      "======================================================================\n",
      "FAIL: runTest (mod.testing.test_alpha.<locals>.TestKnown)\n",
      "----------------------------------------------------------------------\n",
      "Traceback (most recent call last):\n",
      "  File \"C:\\Users\\egcmo\\ironhack\\Labs\\lab-functions\\mod\\testing.py\", line 187, in runTest\n",
      "    self.assertEqual(fn(self.input), self.output, f\"Should be {self.output}\")\n",
      "AssertionError: \"[',', ',', ',', ',', ',', ',', ',', ',',[776 chars]'z']\" != 'djlgueuz,eenkdewzdl,fquipej,khafpvj,mblc[120 chars]bqeg'\n",
      "Diff is 991 characters long. Set self.maxDiff to None to see it. : Should be djlgueuz,eenkdewzdl,fquipej,khafpvj,mblcknlg,mldmwdlpz,mmitbn,mpjeeqxc,nvtrjvh,prpgzkcvj,qgvkjwqm,qihztshpkn,rapiplejha,rjepko,rmmivwns,rzcili,whbfxb,yfrp,yzqgfbqeg\n",
      "\n",
      "======================================================================\n",
      "FAIL: runTest (mod.testing.test_alpha.<locals>.TestKnown)\n",
      "----------------------------------------------------------------------\n",
      "Traceback (most recent call last):\n",
      "  File \"C:\\Users\\egcmo\\ironhack\\Labs\\lab-functions\\mod\\testing.py\", line 187, in runTest\n",
      "    self.assertEqual(fn(self.input), self.output, f\"Should be {self.output}\")\n",
      "AssertionError: \"[',', ',', ',', 'c', 'd', 'd', 'd', 'e',[91 chars]'v']\" != 'dtdfl,gscipmt,tmrdrkpl,vevv'\n",
      "- [',', ',', ',', 'c', 'd', 'd', 'd', 'e', 'f', 'g', 'i', 'k', 'l', 'l', 'm', 'm', 'p', 'p', 'r', 'r', 's', 't', 't', 't', 'v', 'v', 'v']\n",
      "+ dtdfl,gscipmt,tmrdrkpl,vevv\n",
      " : Should be dtdfl,gscipmt,tmrdrkpl,vevv\n",
      "\n",
      "======================================================================\n",
      "FAIL: runTest (mod.testing.test_alpha.<locals>.TestKnown)\n",
      "----------------------------------------------------------------------\n",
      "Traceback (most recent call last):\n",
      "  File \"C:\\Users\\egcmo\\ironhack\\Labs\\lab-functions\\mod\\testing.py\", line 187, in runTest\n",
      "    self.assertEqual(fn(self.input), self.output, f\"Should be {self.output}\")\n",
      "AssertionError: \"[',', ',', ',', ',', ',', ',', ',', ',',[641 chars]'z']\" != 'cfos,ctzrfon,drhf,dzbpwvfk,hrvodsim,hzht[93 chars]zxza'\n",
      "Diff is 829 characters long. Set self.maxDiff to None to see it. : Should be cfos,ctzrfon,drhf,dzbpwvfk,hrvodsim,hzhtqkpgfc,mdll,qxeddfbdky,rggrxuilgd,rkzn,sdhufhhvp,svuhaqvs,vjnjqbn,vlxmcbxycy,vvsgtg,yzutntbj,zxza\n",
      "\n",
      "======================================================================\n",
      "FAIL: runTest (mod.testing.test_alpha.<locals>.TestKnown)\n",
      "----------------------------------------------------------------------\n",
      "Traceback (most recent call last):\n",
      "  File \"C:\\Users\\egcmo\\ironhack\\Labs\\lab-functions\\mod\\testing.py\", line 187, in runTest\n",
      "    self.assertEqual(fn(self.input), self.output, f\"Should be {self.output}\")\n",
      "AssertionError: \"[',', ',', ',', ',', ',', ',', ',', ',',[931 chars]'z']\" != 'bfnp,bmylqdgidg,brwvsif,bxafqdxoo,dxprnc[151 chars]zgzk'\n",
      "Diff is 1177 characters long. Set self.maxDiff to None to see it. : Should be bfnp,bmylqdgidg,brwvsif,bxafqdxoo,dxprncpdmq,eqlkwtuyk,hifiokq,lwfee,mpcowhxtlu,mvllomdfxt,oksjh,olvas,oshbimxed,pbxfnymt,qtpi,rogtvx,ujqw,ukthfczupx,vrgnbg,xativx,xtvxonnync,yiahs,yoahszblb,zgzk\n",
      "\n",
      "======================================================================\n",
      "FAIL: runTest (mod.testing.test_alpha.<locals>.TestKnown)\n",
      "----------------------------------------------------------------------\n",
      "Traceback (most recent call last):\n",
      "  File \"C:\\Users\\egcmo\\ironhack\\Labs\\lab-functions\\mod\\testing.py\", line 187, in runTest\n",
      "    self.assertEqual(fn(self.input), self.output, f\"Should be {self.output}\")\n",
      "AssertionError: \"[',', ',', ',', ',', ',', ',', ',', ',',[726 chars]'z']\" != 'ctczmgmnqt,dgszzzg,exqmuranyk,fdgoi,fjhx[110 chars]ppbw'\n",
      "Diff is 931 characters long. Set self.maxDiff to None to see it. : Should be ctczmgmnqt,dgszzzg,exqmuranyk,fdgoi,fjhxphp,ghggtanlax,hddaiaeq,hqit,jplja,kmlkb,lmtrjf,lnsjo,mcbehiws,oanpcdh,qupl,qxxq,uobqvlcv,uxftzf,yqtygq,zflfouppbw\n",
      "\n"
     ]
    },
    {
     "name": "stderr",
     "output_type": "stream",
     "text": [
      "======================================================================\n",
      "FAIL: runTest (mod.testing.test_alpha.<locals>.TestKnown)\n",
      "----------------------------------------------------------------------\n",
      "Traceback (most recent call last):\n",
      "  File \"C:\\Users\\egcmo\\ironhack\\Labs\\lab-functions\\mod\\testing.py\", line 187, in runTest\n",
      "    self.assertEqual(fn(self.input), self.output, f\"Should be {self.output}\")\n",
      "AssertionError: \"[',', ',', ',', ',', ',', ',', ',', ',',[701 chars]'z']\" != 'amvwu,aqwmlxyw,dgwx,ezuzwk,facmp,fzfocqh[105 chars]esvf'\n",
      "Diff is 901 characters long. Set self.maxDiff to None to see it. : Should be amvwu,aqwmlxyw,dgwx,ezuzwk,facmp,fzfocqhlia,htejnancfw,iithnwa,irinsbncp,kznagihna,lpyvlusg,lscmr,qyalhde,sfjvspwetf,soxzrgcoja,svizbqwo,vsdl,wquesvf\n",
      "\n",
      "======================================================================\n",
      "FAIL: runTest (mod.testing.test_alpha.<locals>.TestKnown)\n",
      "----------------------------------------------------------------------\n",
      "Traceback (most recent call last):\n",
      "  File \"C:\\Users\\egcmo\\ironhack\\Labs\\lab-functions\\mod\\testing.py\", line 187, in runTest\n",
      "    self.assertEqual(fn(self.input), self.output, f\"Should be {self.output}\")\n",
      "AssertionError: \"[',', ',', ',', ',', ',', ',', ',', ',',[721 chars]'z']\" != 'amlf,duip,esldvxbbwt,fraxfp,ftdoq,gdwgwo[109 chars]hdcj'\n",
      "Diff is 925 characters long. Set self.maxDiff to None to see it. : Should be amlf,duip,esldvxbbwt,fraxfp,ftdoq,gdwgwoqbq,jizjidj,klxdybxzu,masvjcheku,nbpazx,nwbxt,opvqbfbm,pfrujfp,qmcscx,sldeprg,ukeptu,ykhaqgcr,zfwzylkfgw,zgexhdcj\n",
      "\n",
      "======================================================================\n",
      "FAIL: runTest (mod.testing.test_alpha.<locals>.TestKnown)\n",
      "----------------------------------------------------------------------\n",
      "Traceback (most recent call last):\n",
      "  File \"C:\\Users\\egcmo\\ironhack\\Labs\\lab-functions\\mod\\testing.py\", line 187, in runTest\n",
      "    self.assertEqual(fn(self.input), self.output, f\"Should be {self.output}\")\n",
      "AssertionError: \"[',', ',', ',', ',', ',', ',', ',', ',',[816 chars]'z']\" != 'aimxhuavat,aptrhzamq,apwcik,bgxzyg,btlsh[128 chars]hkpa'\n",
      "Diff is 1039 characters long. Set self.maxDiff to None to see it. : Should be aimxhuavat,aptrhzamq,apwcik,bgxzyg,btlshpz,chculpcba,hlceryop,hrtby,iqzksfwud,ivmrvmnc,qopelh,rfolix,spidgnmx,vqwxbezpum,wnqmpbml,xjypkdccy,yjjo,zekjpyywr,zpvaar,ztjpnehkpa\n",
      "\n",
      "======================================================================\n",
      "FAIL: runTest (mod.testing.test_alpha.<locals>.TestKnown)\n",
      "----------------------------------------------------------------------\n",
      "Traceback (most recent call last):\n",
      "  File \"C:\\Users\\egcmo\\ironhack\\Labs\\lab-functions\\mod\\testing.py\", line 187, in runTest\n",
      "    self.assertEqual(fn(self.input), self.output, f\"Should be {self.output}\")\n",
      "AssertionError: \"[',', ',', ',', ',', ',', ',', ',', ',',[501 chars]'z']\" != 'aldnmg,chjbibdcx,cyjcwaboz,ddiooad,ejeqb[65 chars]kkut'\n",
      "Diff is 661 characters long. Set self.maxDiff to None to see it. : Should be aldnmg,chjbibdcx,cyjcwaboz,ddiooad,ejeqbu,eumcoibgvc,ezslros,ijwsfz,iuyoml,sjuo,sradhcut,voimnsza,xnbjh,ykkut\n",
      "\n",
      "======================================================================\n",
      "FAIL: runTest (mod.testing.test_alpha.<locals>.TestKnown)\n",
      "----------------------------------------------------------------------\n",
      "Traceback (most recent call last):\n",
      "  File \"C:\\Users\\egcmo\\ironhack\\Labs\\lab-functions\\mod\\testing.py\", line 187, in runTest\n",
      "    self.assertEqual(fn(self.input), self.output, f\"Should be {self.output}\")\n",
      "AssertionError: \"[',', ',', ',', ',', ',', ',', ',', ',',[586 chars]'z']\" != 'acdcfybsby,dejmtq,eejuk,eoopr,hhigm,hzkh[82 chars]ryuy'\n",
      "Diff is 763 characters long. Set self.maxDiff to None to see it. : Should be acdcfybsby,dejmtq,eejuk,eoopr,hhigm,hzkhmbe,kagtek,okrpzzszo,pqbnjcs,sujihg,ubhxaq,vgamttlf,wdagvmgrd,wmcmlr,yncorcp,zqjtaryuy\n",
      "\n",
      "======================================================================\n",
      "FAIL: runTest (mod.testing.test_alpha.<locals>.TestKnown)\n",
      "----------------------------------------------------------------------\n",
      "Traceback (most recent call last):\n",
      "  File \"C:\\Users\\egcmo\\ironhack\\Labs\\lab-functions\\mod\\testing.py\", line 187, in runTest\n",
      "    self.assertEqual(fn(self.input), self.output, f\"Should be {self.output}\")\n",
      "AssertionError: \"[',', ',', ',', ',', ',', ',', ',', ',',[991 chars]'z']\" != 'bxezqgkvf,chhemy,chzf,cnqsngrt,dsjtkfgs,[163 chars]dedo'\n",
      "Diff is 1249 characters long. Set self.maxDiff to None to see it. : Should be bxezqgkvf,chhemy,chzf,cnqsngrt,dsjtkfgs,eqrswmn,fsulprrkt,fvpnbwpf,jfiomufyyg,mwir,nqkdofclfq,nuwshyw,pjpiuhryvb,ptkkfrtrw,qkkez,suolly,sxwe,twbgshmmwl,urusggj,wagk,xgbmhty,yssqdxruti,ystugdijc,ywzfpo,zsdedo\n",
      "\n",
      "======================================================================\n",
      "FAIL: runTest (mod.testing.test_alpha.<locals>.TestKnown)\n",
      "----------------------------------------------------------------------\n",
      "Traceback (most recent call last):\n",
      "  File \"C:\\Users\\egcmo\\ironhack\\Labs\\lab-functions\\mod\\testing.py\", line 187, in runTest\n",
      "    self.assertEqual(fn(self.input), self.output, f\"Should be {self.output}\")\n",
      "AssertionError: \"[',', ',', ',', ',', ',', ',', ',', ',',[501 chars]'z']\" != 'ahxextdvn,axwebeba,dgdab,fxslcjxc,gazop,[65 chars]cwgo'\n",
      "Diff is 661 characters long. Set self.maxDiff to None to see it. : Should be ahxextdvn,axwebeba,dgdab,fxslcjxc,gazop,gjamc,iqsxy,mnlf,nabqvvup,ngmfdho,oowqqsrl,qbqcjqubi,sqxv,vajy,xpcwgo\n",
      "\n",
      "======================================================================\n",
      "FAIL: runTest (mod.testing.test_alpha.<locals>.TestKnown)\n",
      "----------------------------------------------------------------------\n",
      "Traceback (most recent call last):\n",
      "  File \"C:\\Users\\egcmo\\ironhack\\Labs\\lab-functions\\mod\\testing.py\", line 187, in runTest\n",
      "    self.assertEqual(fn(self.input), self.output, f\"Should be {self.output}\")\n",
      "AssertionError: \"[',', ',', ',', ',', ',', ',', ',', ',',[936 chars]'z']\" != 'arzjkjxva,cxvtsmlat,dvkgwax,fsmbamxq,ibk[152 chars]dquu'\n",
      "Diff is 1183 characters long. Set self.maxDiff to None to see it. : Should be arzjkjxva,cxvtsmlat,dvkgwax,fsmbamxq,ibklcrnom,igkf,kgcdj,kvvwfh,mjup,opjylq,qpwdsnthj,rdczsw,sbgiund,uiqnp,uondepai,vizy,vlboqjfa,vmysvezdm,wcmyvypcfh,xbedcqamk,yterxzl,yumsmofelf,zngelmk,ztidquu\n",
      "\n",
      "======================================================================\n",
      "FAIL: runTest (mod.testing.test_alpha.<locals>.TestKnown)\n",
      "----------------------------------------------------------------------\n",
      "Traceback (most recent call last):\n",
      "  File \"C:\\Users\\egcmo\\ironhack\\Labs\\lab-functions\\mod\\testing.py\", line 187, in runTest\n",
      "    self.assertEqual(fn(self.input), self.output, f\"Should be {self.output}\")\n",
      "AssertionError: \"[',', ',', ',', ',', 'a', 'a', 'b', 'c',[126 chars]'y']\" != 'dmput,lfqko,qscwgby,radyqghnc,ujka'\n",
      "- [',', ',', ',', ',', 'a', 'a', 'b', 'c', 'c', 'd', 'd', 'f', 'g', 'g', 'h', 'j', 'k', 'k', 'l', 'm', 'n', 'o', 'p', 'q', 'q', 'q', 'r', 's', 't', 'u', 'u', 'w', 'y', 'y']\n",
      "+ dmput,lfqko,qscwgby,radyqghnc,ujka\n",
      " : Should be dmput,lfqko,qscwgby,radyqghnc,ujka\n",
      "\n",
      "======================================================================\n",
      "FAIL: runTest (mod.testing.test_alpha.<locals>.TestKnown)\n",
      "----------------------------------------------------------------------\n",
      "Traceback (most recent call last):\n",
      "  File \"C:\\Users\\egcmo\\ironhack\\Labs\\lab-functions\\mod\\testing.py\", line 187, in runTest\n",
      "    self.assertEqual(fn(self.input), self.output, f\"Should be {self.output}\")\n",
      "AssertionError: \"[',', ',', ',', ',', ',', ',', ',', ',',[861 chars]'z']\" != 'asnbec,bmmleq,bmqkundpp,bpbwjsouxv,cjkzf[137 chars]fmgf'\n",
      "Diff is 1093 characters long. Set self.maxDiff to None to see it. : Should be asnbec,bmmleq,bmqkundpp,bpbwjsouxv,cjkzfnsydp,datldk,dfeej,eqqopvslke,erfvqrbjo,fhzkt,fzigd,gqkfizldv,hcgtw,idsqi,jenozzpjpk,lcpcd,ltclrlu,qufie,qwblseoi,svmkeuwj,xfnmhnb,ykqauafmgf\n",
      "\n",
      "======================================================================\n",
      "FAIL: runTest (mod.testing.test_alpha.<locals>.TestKnown)\n",
      "----------------------------------------------------------------------\n",
      "Traceback (most recent call last):\n",
      "  File \"C:\\Users\\egcmo\\ironhack\\Labs\\lab-functions\\mod\\testing.py\", line 187, in runTest\n",
      "    self.assertEqual(fn(self.input), self.output, f\"Should be {self.output}\")\n",
      "AssertionError: \"[',', ',', ',', ',', ',', ',', ',', ',',[296 chars]'y']\" != 'cbhuu,cftua,dvnuc,eljyrcyya,exhfadochs,s[24 chars]xdhb'\n",
      "- [',', ',', ',', ',', ',', ',', ',', ',', ',', 'a', 'a', 'a', 'b', 'b', 'c', 'c', 'c', 'c', 'c', 'c', 'c', 'd', 'd', 'd', 'e', 'e', 'e', 'f', 'f', 'h', 'h', 'h', 'h', 'j', 'k', 'k', 'l', 'm', 'm', 'm', 'n', 'o', 'o', 'o', 'p', 'q', 'r', 'r', 's', 's', 't', 't', 't', 'u', 'u', 'u', 'u', 'u', 'u', 'u', 'v', 'x', 'x', 'y', 'y', 'y', 'y', 'y']\n",
      "+ cbhuu,cftua,dvnuc,eljyrcyya,exhfadochs,sytmpr,tkcyme,umqu,uookc,xdhb\n",
      " : Should be cbhuu,cftua,dvnuc,eljyrcyya,exhfadochs,sytmpr,tkcyme,umqu,uookc,xdhb\n",
      "\n"
     ]
    },
    {
     "name": "stderr",
     "output_type": "stream",
     "text": [
      "======================================================================\n",
      "FAIL: runTest (mod.testing.test_alpha.<locals>.TestKnown)\n",
      "----------------------------------------------------------------------\n",
      "Traceback (most recent call last):\n",
      "  File \"C:\\Users\\egcmo\\ironhack\\Labs\\lab-functions\\mod\\testing.py\", line 187, in runTest\n",
      "    self.assertEqual(fn(self.input), self.output, f\"Should be {self.output}\")\n",
      "AssertionError: \"[',', ',', ',', ',', ',', ',', ',', ',',[336 chars]'z']\" != 'ahao,cydz,dtzxqdg,etzuztdkx,hrurdahcbg,k[32 chars]zzaw'\n",
      "- [',', ',', ',', ',', ',', ',', ',', ',', 'a', 'a', 'a', 'a', 'b', 'b', 'b', 'c', 'c', 'c', 'c', 'd', 'd', 'd', 'd', 'd', 'e', 'e', 'f', 'g', 'g', 'g', 'h', 'h', 'h', 'h', 'i', 'k', 'k', 'k', 'l', 'l', 'l', 'm', 'm', 'm', 'o', 'o', 'q', 'q', 'r', 'r', 'r', 'r', 't', 't', 't', 't', 'u', 'u', 'u', 'u', 'u', 'u', 'v', 'v', 'w', 'w', 'x', 'x', 'x', 'y', 'z', 'z', 'z', 'z', 'z', 'z']\n",
      "+ ahao,cydz,dtzxqdg,etzuztdkx,hrurdahcbg,kuuklmv,lqmcerftb,uligovxr,umwhcbzzaw\n",
      " : Should be ahao,cydz,dtzxqdg,etzuztdkx,hrurdahcbg,kuuklmv,lqmcerftb,uligovxr,umwhcbzzaw\n",
      "\n",
      "======================================================================\n",
      "FAIL: runTest (mod.testing.test_alpha.<locals>.TestKnown)\n",
      "----------------------------------------------------------------------\n",
      "Traceback (most recent call last):\n",
      "  File \"C:\\Users\\egcmo\\ironhack\\Labs\\lab-functions\\mod\\testing.py\", line 187, in runTest\n",
      "    self.assertEqual(fn(self.input), self.output, f\"Should be {self.output}\")\n",
      "AssertionError: \"[',', ',', ',', ',', ',', ',', ',', ',',[516 chars]'z']\" != 'auundlksm,bjixkuv,ddnmispcus,ecmrts,eewe[68 chars]kuqr'\n",
      "Diff is 679 characters long. Set self.maxDiff to None to see it. : Should be auundlksm,bjixkuv,ddnmispcus,ecmrts,eewe,lhwt,nydilx,tjnq,upotbqghql,vtpajqtp,wclquuik,wdui,wvtcytpzr,xlkgakkuqr\n",
      "\n",
      "======================================================================\n",
      "FAIL: runTest (mod.testing.test_alpha.<locals>.TestKnown)\n",
      "----------------------------------------------------------------------\n",
      "Traceback (most recent call last):\n",
      "  File \"C:\\Users\\egcmo\\ironhack\\Labs\\lab-functions\\mod\\testing.py\", line 187, in runTest\n",
      "    self.assertEqual(fn(self.input), self.output, f\"Should be {self.output}\")\n",
      "AssertionError: \"[',', ',', ',', ',', ',', ',', ',', ',',[916 chars]'z']\" != 'bhxjvvy,bnrsmz,boygdf,ecfxjhsrr,gmajb,gr[148 chars]cciy'\n",
      "Diff is 1159 characters long. Set self.maxDiff to None to see it. : Should be bhxjvvy,bnrsmz,boygdf,ecfxjhsrr,gmajb,grhye,htnj,hygwqsnj,jbxsuarpj,lbxgzvlys,nnqwj,ocrrczwhiv,oloaedg,owwjutu,oxetjvaf,qtkp,rbgtvpxruz,rshccsmr,sxptz,uuhntprtwd,vtbsdu,ykfbpgzlra,zdbcw,zscciy\n",
      "\n",
      "======================================================================\n",
      "FAIL: runTest (mod.testing.test_alpha.<locals>.TestKnown)\n",
      "----------------------------------------------------------------------\n",
      "Traceback (most recent call last):\n",
      "  File \"C:\\Users\\egcmo\\ironhack\\Labs\\lab-functions\\mod\\testing.py\", line 187, in runTest\n",
      "    self.assertEqual(fn(self.input), self.output, f\"Should be {self.output}\")\n",
      "AssertionError: \"[',', ',', ',', ',', ',', ',', ',', ',',[496 chars]'z']\" != 'enoqfrc,fsabzirrfz,kpcykqcxc,kvut,kxej,n[64 chars]pijg'\n",
      "Diff is 655 characters long. Set self.maxDiff to None to see it. : Should be enoqfrc,fsabzirrfz,kpcykqcxc,kvut,kxej,nadvawpull,nfhcglty,oksbj,tqmi,uakssynb,uhsbqqmkx,uphb,wgalmvik,ypijg\n",
      "\n",
      "======================================================================\n",
      "FAIL: runTest (mod.testing.test_alpha.<locals>.TestKnown)\n",
      "----------------------------------------------------------------------\n",
      "Traceback (most recent call last):\n",
      "  File \"C:\\Users\\egcmo\\ironhack\\Labs\\lab-functions\\mod\\testing.py\", line 187, in runTest\n",
      "    self.assertEqual(fn(self.input), self.output, f\"Should be {self.output}\")\n",
      "AssertionError: \"[',', ',', ',', ',', ',', ',', ',', ',',[526 chars]'z']\" != 'errvnuwrek,hxvy,jrsufhitxt,luvqkqux,mext[70 chars]lqgl'\n",
      "Diff is 691 characters long. Set self.maxDiff to None to see it. : Should be errvnuwrek,hxvy,jrsufhitxt,luvqkqux,mexttva,mhxagotusc,paalmkz,pjbh,qazpnqqhf,qjyl,uhnlncj,wojvjvrt,yjehl,yspclqgl\n",
      "\n",
      "======================================================================\n",
      "FAIL: runTest (mod.testing.test_alpha.<locals>.TestKnown)\n",
      "----------------------------------------------------------------------\n",
      "Traceback (most recent call last):\n",
      "  File \"C:\\Users\\egcmo\\ironhack\\Labs\\lab-functions\\mod\\testing.py\", line 187, in runTest\n",
      "    self.assertEqual(fn(self.input), self.output, f\"Should be {self.output}\")\n",
      "AssertionError: \"[',', ',', ',', ',', ',', ',', 'b', 'c',[206 chars]'y']\" != 'ecqhj,essyshl,hvfx,jhmuqdul,mfgvqt,mqvtueubvm,nsfr'\n",
      "- [',', ',', ',', ',', ',', ',', 'b', 'c', 'd', 'e', 'e', 'e', 'f', 'f', 'f', 'g', 'h', 'h', 'h', 'h', 'j', 'j', 'l', 'l', 'm', 'm', 'm', 'm', 'n', 'q', 'q', 'q', 'q', 'r', 's', 's', 's', 's', 't', 't', 'u', 'u', 'u', 'u', 'v', 'v', 'v', 'v', 'x', 'y']\n",
      "+ ecqhj,essyshl,hvfx,jhmuqdul,mfgvqt,mqvtueubvm,nsfr\n",
      " : Should be ecqhj,essyshl,hvfx,jhmuqdul,mfgvqt,mqvtueubvm,nsfr\n",
      "\n",
      "======================================================================\n",
      "FAIL: runTest (mod.testing.test_alpha.<locals>.TestKnown)\n",
      "----------------------------------------------------------------------\n",
      "Traceback (most recent call last):\n",
      "  File \"C:\\Users\\egcmo\\ironhack\\Labs\\lab-functions\\mod\\testing.py\", line 187, in runTest\n",
      "    self.assertEqual(fn(self.input), self.output, f\"Should be {self.output}\")\n",
      "AssertionError: \"[',', ',', ',', ',', ',', ',', ',', ',',[431 chars]'z']\" != 'akcimf,dficed,djeprx,doico,dqtkubdjfo,fj[51 chars]wqve'\n",
      "- [',', ',', ',', ',', ',', ',', ',', ',', ',', ',', ',', ',', 'a', 'b', 'b', 'b', 'c', 'c', 'c', 'c', 'c', 'c', 'c', 'c', 'd', 'd', 'd', 'd', 'd', 'd', 'e', 'e', 'e', 'e', 'f', 'f', 'f', 'f', 'f', 'f', 'f', 'h', 'h', 'h', 'h', 'i', 'i', 'i', 'i', 'i', 'j', 'j', 'j', 'j', 'j', 'k', 'k', 'k', 'k', 'k', 'k', 'l', 'm', 'm', 'm', 'n', 'n', 'o', 'o', 'o', 'o', 'p', 'p', 'q', 'q', 'q', 'q', 'r', 'r', 's', 's', 's', 't', 't', 't', 't', 'u', 'v', 'w', 'x', 'x', 'y', 'y', 'z', 'z']\n",
      "+ akcimf,dficed,djeprx,doico,dqtkubdjfo,fjfnt,icqhc,jsekh,kcyqi,rzbfkkt,sbhylntohm,sjpc,zcxmfwqve\n",
      " : Should be akcimf,dficed,djeprx,doico,dqtkubdjfo,fjfnt,icqhc,jsekh,kcyqi,rzbfkkt,sbhylntohm,sjpc,zcxmfwqve\n",
      "\n",
      "======================================================================\n",
      "FAIL: runTest (mod.testing.test_alpha.<locals>.TestKnown)\n",
      "----------------------------------------------------------------------\n",
      "Traceback (most recent call last):\n",
      "  File \"C:\\Users\\egcmo\\ironhack\\Labs\\lab-functions\\mod\\testing.py\", line 187, in runTest\n",
      "    self.assertEqual(fn(self.input), self.output, f\"Should be {self.output}\")\n",
      "AssertionError: \"[',', ',', ',', ',', ',', ',', ',', ',',[386 chars]'z']\" != 'dofhmlp,fyepm,grwfljcmy,hosy,kxhzzlqz,oj[42 chars]zofs'\n",
      "- [',', ',', ',', ',', ',', ',', ',', ',', ',', ',', ',', 'a', 'c', 'c', 'd', 'd', 'e', 'f', 'f', 'f', 'f', 'f', 'f', 'g', 'g', 'h', 'h', 'h', 'h', 'i', 'j', 'j', 'j', 'j', 'k', 'k', 'k', 'l', 'l', 'l', 'l', 'm', 'm', 'm', 'n', 'n', 'o', 'o', 'o', 'o', 'o', 'o', 'p', 'p', 'q', 'q', 'q', 'r', 'r', 's', 's', 't', 't', 'v', 'v', 'v', 'v', 'w', 'w', 'w', 'w', 'x', 'x', 'x', 'x', 'x', 'x', 'y', 'y', 'y', 'y', 'y', 'z', 'z', 'z', 'z']\n",
      "+ dofhmlp,fyepm,grwfljcmy,hosy,kxhzzlqz,ojavxqfdfi,tkngw,vkxwxjwhrq,vlxcn,yjov,yxto,zofs\n",
      " : Should be dofhmlp,fyepm,grwfljcmy,hosy,kxhzzlqz,ojavxqfdfi,tkngw,vkxwxjwhrq,vlxcn,yjov,yxto,zofs\n",
      "\n",
      "----------------------------------------------------------------------\n",
      "Ran 100 tests in 0.405s\n",
      "\n",
      "FAILED (failures=100)\n"
     ]
    }
   ],
   "source": [
    "# This will test your function \n",
    "test_alpha(sort_alpha)"
   ]
  },
  {
   "cell_type": "markdown",
   "metadata": {},
   "source": [
    "## 12. Write a function to check if a given password is strong (at least 8 characters, at least one lower case, at least one upper case, at least one number and at least one special character). It should output True if strong and False if not.\n",
    "`Valid special characters: # @ ! $ % & ( ) ^ * [ ] { }`"
   ]
  },
  {
   "cell_type": "code",
   "execution_count": 223,
   "metadata": {},
   "outputs": [],
   "source": [
    "def check_pass(string):\n",
    "    ln_pass=0\n",
    "    for i in string:\n",
    "        ln_pass+=1\n",
    "    if ln_pass<8:\n",
    "        return False\n",
    "    number=False\n",
    "    upper=False\n",
    "    special=False\n",
    "    for i in string:\n",
    "        if i.isdigit():\n",
    "            number=True\n",
    "        if i in \"#@!$%&(){[]}\":\n",
    "            special=True\n",
    "        if i.isupper():\n",
    "            upper=True\n",
    "    \n",
    "    if number==True and special==True and upper==True:\n",
    "            return True\n",
    "    else:\n",
    "            return False #muy heavy "
   ]
  },
  {
   "cell_type": "code",
   "execution_count": 224,
   "metadata": {},
   "outputs": [
    {
     "data": {
      "text/plain": [
       "True"
      ]
     },
     "execution_count": 224,
     "metadata": {},
     "output_type": "execute_result"
    }
   ],
   "source": [
    "check_pass(\"Cambronero!1\")"
   ]
  },
  {
   "cell_type": "code",
   "execution_count": 266,
   "metadata": {},
   "outputs": [
    {
     "name": "stderr",
     "output_type": "stream",
     "text": [
      "....................................................................................................\n",
      "----------------------------------------------------------------------\n",
      "Ran 100 tests in 0.214s\n",
      "\n",
      "OK\n"
     ]
    }
   ],
   "source": [
    "# This will test your function \n",
    "test_pass(check_pass)"
   ]
  }
 ],
 "metadata": {
  "kernelspec": {
   "display_name": "iron",
   "language": "python",
   "name": "iron"
  },
  "language_info": {
   "codemirror_mode": {
    "name": "ipython",
    "version": 3
   },
   "file_extension": ".py",
   "mimetype": "text/x-python",
   "name": "python",
   "nbconvert_exporter": "python",
   "pygments_lexer": "ipython3",
   "version": "3.10.8"
  }
 },
 "nbformat": 4,
 "nbformat_minor": 4
}
