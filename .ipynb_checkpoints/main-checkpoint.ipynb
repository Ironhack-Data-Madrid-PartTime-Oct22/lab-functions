{
 "cells": [
  {
   "cell_type": "markdown",
   "metadata": {},
   "source": [
    "# Functions"
   ]
  },
  {
   "cell_type": "markdown",
   "metadata": {},
   "source": [
    "On this lab we will put to practice some of the concepts we have learned on this past few days.\n",
    "\n",
    "`NOTE: On this lab you should try to write all the functions yourself using only the most basic of python syntax and without functions such as len, count, sum, max, min, in, etc. Give it a try. 🧑🏻‍💻👩🏻‍💻`\n",
    "\n",
    "The cell after each exercise contains a few tests to check if your function works as expected."
   ]
  },
  {
   "cell_type": "code",
   "execution_count": 3,
   "metadata": {},
   "outputs": [],
   "source": [
    "from mod.testing import *\n",
    "import unittest"
   ]
  },
  {
   "cell_type": "markdown",
   "metadata": {},
   "source": [
    "## 1. Write a function that returns the greater of two numbers"
   ]
  },
  {
   "cell_type": "code",
   "execution_count": 68,
   "metadata": {},
   "outputs": [],
   "source": [
    "def greater(a,b):\n",
    "    if a>b:\n",
    "        return(a)\n",
    "    else:\n",
    "        return(b)"
   ]
  },
  {
   "cell_type": "code",
   "execution_count": 69,
   "metadata": {},
   "outputs": [
    {
     "name": "stderr",
     "output_type": "stream",
     "text": [
      "....................................................................................................\n",
      "----------------------------------------------------------------------\n",
      "Ran 100 tests in 0.068s\n",
      "\n",
      "OK\n"
     ]
    }
   ],
   "source": [
    "# This will test your function \n",
    "test_greater(greater)"
   ]
  },
  {
   "cell_type": "markdown",
   "metadata": {},
   "source": [
    "## 2. Now write a function that returns the largest element on a list"
   ]
  },
  {
   "cell_type": "code",
   "execution_count": 66,
   "metadata": {},
   "outputs": [],
   "source": [
    "def greatest(arr):\n",
    "    arr.sort()\n",
    "    return arr[-1]        "
   ]
  },
  {
   "cell_type": "code",
   "execution_count": 55,
   "metadata": {},
   "outputs": [
    {
     "name": "stderr",
     "output_type": "stream",
     "text": [
      "....................................................................................................\n",
      "----------------------------------------------------------------------\n",
      "Ran 100 tests in 0.067s\n",
      "\n",
      "OK\n"
     ]
    }
   ],
   "source": [
    "# This will test your function \n",
    "test_greatest(greatest)"
   ]
  },
  {
   "cell_type": "markdown",
   "metadata": {},
   "source": [
    "## 3. Write a function that sums all the elements on a list"
   ]
  },
  {
   "cell_type": "code",
   "execution_count": 64,
   "metadata": {},
   "outputs": [],
   "source": [
    "def sum_all(arr):\n",
    "    suma=0\n",
    "    for i in arr:\n",
    "        suma+=i\n",
    "    return suma"
   ]
  },
  {
   "cell_type": "code",
   "execution_count": 65,
   "metadata": {},
   "outputs": [
    {
     "name": "stderr",
     "output_type": "stream",
     "text": [
      "....................................................................................................\n",
      "----------------------------------------------------------------------\n",
      "Ran 100 tests in 0.069s\n",
      "\n",
      "OK\n"
     ]
    }
   ],
   "source": [
    "# This will test your function \n",
    "test_sum(sum_all)"
   ]
  },
  {
   "cell_type": "markdown",
   "metadata": {},
   "source": [
    "## 4. Write another function that multiplies all the elements on a list"
   ]
  },
  {
   "cell_type": "code",
   "execution_count": 77,
   "metadata": {},
   "outputs": [],
   "source": [
    "def mult_all(arr):\n",
    "    multiplicacion=1\n",
    "    for i in arr:\n",
    "        multiplicacion*=i\n",
    "    return multiplicacion"
   ]
  },
  {
   "cell_type": "code",
   "execution_count": 78,
   "metadata": {},
   "outputs": [
    {
     "name": "stderr",
     "output_type": "stream",
     "text": [
      "....................................................................................................\n",
      "----------------------------------------------------------------------\n",
      "Ran 100 tests in 0.073s\n",
      "\n",
      "OK\n"
     ]
    }
   ],
   "source": [
    "# This will test your function \n",
    "test_mult(mult_all)"
   ]
  },
  {
   "cell_type": "markdown",
   "metadata": {},
   "source": [
    "## 5. Now combine those two ideas and write a function that receives a list and either \"+\" or \"*\" and outputs acordingly"
   ]
  },
  {
   "cell_type": "code",
   "execution_count": 46,
   "metadata": {},
   "outputs": [],
   "source": [
    "def oper_all(arr, oper):\n",
    "    suma=0\n",
    "    multiplicacion=1\n",
    "    resultado=0\n",
    "    for i in arr:\n",
    "        if oper==\"+\":\n",
    "            suma+=i\n",
    "            resultado=suma\n",
    "        else:\n",
    "            multiplicacion*=i\n",
    "            resultado=multiplicacion\n",
    "    return resultado   "
   ]
  },
  {
   "cell_type": "code",
   "execution_count": 47,
   "metadata": {},
   "outputs": [
    {
     "name": "stderr",
     "output_type": "stream",
     "text": [
      "....................................................................................................\n",
      "----------------------------------------------------------------------\n",
      "Ran 100 tests in 0.070s\n",
      "\n",
      "OK\n"
     ]
    }
   ],
   "source": [
    "# This will test your function \n",
    "test_operations(oper_all)"
   ]
  },
  {
   "cell_type": "markdown",
   "metadata": {},
   "source": [
    "## 6. Write a function that returns the factorial of a number."
   ]
  },
  {
   "cell_type": "code",
   "execution_count": 62,
   "metadata": {},
   "outputs": [],
   "source": [
    "def factorial(n):\n",
    "    resultado=1\n",
    "    for i in range(1,n+1):\n",
    "        resultado*=i\n",
    "    return resultado   "
   ]
  },
  {
   "cell_type": "code",
   "execution_count": 63,
   "metadata": {},
   "outputs": [
    {
     "name": "stderr",
     "output_type": "stream",
     "text": [
      "....................................................................................................\n",
      "----------------------------------------------------------------------\n",
      "Ran 100 tests in 0.068s\n",
      "\n",
      "OK\n"
     ]
    }
   ],
   "source": [
    "# This will test your function \n",
    "test_factorial(factorial)"
   ]
  },
  {
   "cell_type": "markdown",
   "metadata": {},
   "source": [
    "## 7. Write a function that takes a list and returns a list of the unique values.\n",
    "\n",
    "`NOTE: You cannot use set. 🤔`"
   ]
  },
  {
   "cell_type": "code",
   "execution_count": 372,
   "metadata": {},
   "outputs": [],
   "source": [
    "def unique(arr):\n",
    "    lista=[]\n",
    "    arr.sort()\n",
    "    lista.append(arr[0])\n",
    "    for i in arr:\n",
    "        if i != lista[-1]:\n",
    "            lista.append(i)\n",
    "    return(lista)   "
   ]
  },
  {
   "cell_type": "code",
   "execution_count": 375,
   "metadata": {},
   "outputs": [
    {
     "data": {
      "text/plain": [
       "'\\n#Pruebas NOT IN\\n\\nprueba=[1,2,2,3]\\nlst=[]\\nfor i in prueba:\\n    if i not in lst:\\n        lst.append(i)\\nprint(lst)\\nunique(prueba)\\n\\n'"
      ]
     },
     "execution_count": 375,
     "metadata": {},
     "output_type": "execute_result"
    }
   ],
   "source": [
    "'''\n",
    "#Pruebas IF NOT IN\n",
    "\n",
    "prueba=[1,2,2,3]\n",
    "lst=[]\n",
    "for i in prueba:\n",
    "    if i not in lst:\n",
    "        lst.append(i)\n",
    "print(lst)\n",
    "unique(prueba)\n",
    "\n",
    "'''"
   ]
  },
  {
   "cell_type": "code",
   "execution_count": 373,
   "metadata": {},
   "outputs": [
    {
     "name": "stderr",
     "output_type": "stream",
     "text": [
      "....................................................................................................\n",
      "----------------------------------------------------------------------\n",
      "Ran 100 tests in 0.073s\n",
      "\n",
      "OK\n"
     ]
    }
   ],
   "source": [
    "# This will test your function \n",
    "test_unique(unique)"
   ]
  },
  {
   "cell_type": "markdown",
   "metadata": {},
   "source": [
    "## 8. Write a function that returns the mode of a list, i.e.: the element that appears the most times.\n",
    "`NOTE: You should not use count... 🧐`"
   ]
  },
  {
   "cell_type": "code",
   "execution_count": 30,
   "metadata": {},
   "outputs": [],
   "source": [
    "def mode_counter(arr):\n",
    "    diccionario={}\n",
    "    for item in arr:\n",
    "        diccionario[item]=0\n",
    "    for item in arr:\n",
    "        diccionario[item]+=1\n",
    "    \n",
    "    values=list(diccionario.values())\n",
    "    values.sort()\n",
    "    max_frequ=values[-1]\n",
    "    \n",
    "    resultado_list=[]\n",
    "    for k,v in diccionario.items():\n",
    "        if v == max_frequ:\n",
    "            resultado_list.append(k)\n",
    "    resultado=resultado_list[0]\n",
    "    return resultado\n"
   ]
  },
  {
   "cell_type": "code",
   "execution_count": 32,
   "metadata": {},
   "outputs": [
    {
     "data": {
      "text/plain": [
       "'\\n#Pruebas IF IN\\n    diccionario={}\\n    for item in arr:\\n        if item in diccionario:\\n            diccionario[item] +=1\\n        else:\\n            diccionario[item] =1\\n    \\n    values=list(diccionario.values())\\n    values.sort()\\n    max_frequ=values[-1]\\n    \\n    resultado_list=[]\\n    for k,v in diccionario.items():\\n        if v == max_frequ:\\n            resultado_list.append(k)\\n    resultado=resultado_list[0]\\n    return resultado\\n    \\n'"
      ]
     },
     "execution_count": 32,
     "metadata": {},
     "output_type": "execute_result"
    }
   ],
   "source": [
    "'''\n",
    "#Pruebas IF IN\n",
    "    diccionario={}\n",
    "    for item in arr:\n",
    "        if item in diccionario:\n",
    "            diccionario[item] +=1\n",
    "        else:\n",
    "            diccionario[item] =1\n",
    "    \n",
    "    values=list(diccionario.values())\n",
    "    values.sort()\n",
    "    max_frequ=values[-1]\n",
    "    \n",
    "    resultado_list=[]\n",
    "    for k,v in diccionario.items():\n",
    "        if v == max_frequ:\n",
    "            resultado_list.append(k)\n",
    "    resultado=resultado_list[0]\n",
    "    return resultado\n",
    "    \n",
    "'''\n"
   ]
  },
  {
   "cell_type": "code",
   "execution_count": 384,
   "metadata": {},
   "outputs": [
    {
     "name": "stderr",
     "output_type": "stream",
     "text": [
      "....................................................................................................\n",
      "----------------------------------------------------------------------\n",
      "Ran 100 tests in 0.185s\n",
      "\n",
      "OK\n"
     ]
    }
   ],
   "source": [
    "# This will test your function \n",
    "test_mode(mode_counter)"
   ]
  },
  {
   "cell_type": "markdown",
   "metadata": {},
   "source": [
    "## 9. Write a function that calculates the standard deviation of a list.\n",
    "`NOTE: Do not use any libraries or already built functions. 😉`"
   ]
  },
  {
   "cell_type": "code",
   "execution_count": 28,
   "metadata": {},
   "outputs": [],
   "source": [
    "def st_dev(arr):\n",
    "    media=0\n",
    "    suma=0\n",
    "    conteo=0\n",
    "    numerador=0\n",
    "    denominador=0\n",
    "    \n",
    "    for i in arr:\n",
    "        suma+=i\n",
    "        conteo+=1\n",
    "    \n",
    "    media= suma/conteo\n",
    "    denominador=conteo-1\n",
    "    \n",
    "    for i in arr:\n",
    "        numerador+=(i-media)**2\n",
    "    \n",
    "    resultado=(numerador/denominador)**0.5\n",
    "    return resultado\n",
    "    "
   ]
  },
  {
   "cell_type": "code",
   "execution_count": 29,
   "metadata": {},
   "outputs": [
    {
     "name": "stderr",
     "output_type": "stream",
     "text": [
      "....................................................................................................\n",
      "----------------------------------------------------------------------\n",
      "Ran 100 tests in 0.065s\n",
      "\n",
      "OK\n"
     ]
    }
   ],
   "source": [
    "# This will test your function \n",
    "test_stdev(st_dev)"
   ]
  },
  {
   "cell_type": "markdown",
   "metadata": {},
   "source": [
    "## 10. Write a function to check if a string is a pangram, i.e.: if it contains all the letters of the alphabet at least once. Mind that the strings may contain characters that are not letters."
   ]
  },
  {
   "cell_type": "code",
   "execution_count": 26,
   "metadata": {},
   "outputs": [],
   "source": [
    "def pangram(string):\n",
    "    string_lower=string.lower()\n",
    "    abecedario=list(map(chr, range(97, 123)))\n",
    "    lista_string=list(string_lower)\n",
    "    lista_letras=[]\n",
    "    \n",
    "    for letra_abecedario in abecedario:\n",
    "        for letra_lista in lista_string:\n",
    "            if letra_lista==letra_abecedario:\n",
    "                lista_letras.append(letra_lista)\n",
    "    \n",
    "    lista_letras.sort()\n",
    "    letras_unicas=[]\n",
    "    \n",
    "    letras_unicas.append(lista_letras[0])\n",
    "    for i in lista_letras:\n",
    "        if i != letras_unicas[-1]:\n",
    "            letras_unicas.append(i)\n",
    "    \n",
    "    try:\n",
    "        if letras_unicas[-26] == abecedario[-26]:\n",
    "            resultado=True\n",
    "    except:\n",
    "        resultado=False\n",
    "    return resultado"
   ]
  },
  {
   "cell_type": "code",
   "execution_count": 27,
   "metadata": {},
   "outputs": [
    {
     "name": "stderr",
     "output_type": "stream",
     "text": [
      "..............................\n",
      "----------------------------------------------------------------------\n",
      "Ran 30 tests in 0.022s\n",
      "\n",
      "OK\n"
     ]
    }
   ],
   "source": [
    "# This will test your function \n",
    "test_pangram(pangram)"
   ]
  },
  {
   "cell_type": "markdown",
   "metadata": {},
   "source": [
    "## 11. Write a function that receives a string of comma separated words and returns a string of comma separated words sorted alphabetically.\n",
    "\n",
    "`NOTE: You may use sorted but not split and definitely no join! 🤪`"
   ]
  },
  {
   "cell_type": "code",
   "execution_count": 24,
   "metadata": {},
   "outputs": [],
   "source": [
    "def sort_alpha(string):\n",
    "    lista_pablabras = []\n",
    "    separador = ''\n",
    "    for letra in string:\n",
    "        if letra == ',':\n",
    "            lista_pablabras.append(separador)\n",
    "            separador = ''\n",
    "        else:\n",
    "            separador += letra\n",
    "    if separador:\n",
    "        lista_pablabras.append(separador)\n",
    "    \n",
    "    \n",
    "    \n",
    "    lista_pablabras.sort()\n",
    "    \n",
    "    resultado = \"\"\n",
    "    for palabra in lista_pablabras:\n",
    "        if palabra != lista_pablabras[-1]:\n",
    "            resultado += str(palabra) + \",\"\n",
    "        else:\n",
    "            resultado += str(palabra)\n",
    "    return resultado"
   ]
  },
  {
   "cell_type": "code",
   "execution_count": 25,
   "metadata": {},
   "outputs": [
    {
     "name": "stderr",
     "output_type": "stream",
     "text": [
      "....................................................................................................\n",
      "----------------------------------------------------------------------\n",
      "Ran 100 tests in 0.073s\n",
      "\n",
      "OK\n"
     ]
    }
   ],
   "source": [
    "# This will test your function \n",
    "test_alpha(sort_alpha)"
   ]
  },
  {
   "cell_type": "markdown",
   "metadata": {},
   "source": [
    "## 12. Write a function to check if a given password is strong (at least 8 characters, at least one lower case, at least one upper case, at least one number and at least one special character). It should output True if strong and False if not.\n",
    "`Valid special characters: # @ ! $ % & ( ) ^ * [ ] { }`"
   ]
  },
  {
   "cell_type": "code",
   "execution_count": 1,
   "metadata": {},
   "outputs": [],
   "source": [
    "def check_pass(string):\n",
    "    caracteres_especiales=['#','@','!','$','%','&','(',')','^','[',']','{','}']\n",
    "    numeros=['1','2','3','4','5','6','7','8','9']\n",
    "    minusculas=list(map(chr,range(97, 123)))\n",
    "    mayusculas=list(map(chr,range(65, 91)))\n",
    "    longitud=0\n",
    "    resultado=True\n",
    "    for letter in string:\n",
    "        longitud+=1\n",
    "    \n",
    "    lista_condiciones=[]\n",
    "    if longitud>=8:\n",
    "        lista_condiciones.append(\"longitud\")\n",
    "        for caracter in string:\n",
    "            for letra_min in minusculas:\n",
    "                if caracter==letra_min:\n",
    "                    lista_condiciones.append(\"letra_min\")\n",
    "            for numero in numeros:\n",
    "                if caracter==numero:\n",
    "                    lista_condiciones.append(\"numero\")\n",
    "\n",
    "            for especial in caracteres_especiales:\n",
    "                if caracter== especial:\n",
    "                    lista_condiciones.append(\"especial\")\n",
    "\n",
    "            for letra_may in mayusculas:\n",
    "                if caracter==letra_may:\n",
    "                    lista_condiciones.append(\"letra_may\")\n",
    "    else:\n",
    "        lista_condiciones=0\n",
    "    \n",
    "    \n",
    "    if lista_condiciones != 0:\n",
    "        conteo_condiciones=[]\n",
    "        lista_condiciones.sort()\n",
    "        conteo_condiciones.append(lista_condiciones[0])\n",
    "        for conteo in lista_condiciones:\n",
    "            if conteo != conteo_condiciones[-1]:\n",
    "                conteo_condiciones.append(conteo)\n",
    "        \n",
    "              \n",
    "        numero_condiciones=0\n",
    "        for i in conteo_condiciones:\n",
    "            numero_condiciones+=1\n",
    "        if numero_condiciones ==5:\n",
    "            resultado=True\n",
    "        else:\n",
    "            resultado=False\n",
    "    else:\n",
    "        resultado=False\n",
    "    return resultado"
   ]
  },
  {
   "cell_type": "code",
   "execution_count": 5,
   "metadata": {},
   "outputs": [
    {
     "name": "stderr",
     "output_type": "stream",
     "text": [
      "....................................................................................................\n",
      "----------------------------------------------------------------------\n",
      "Ran 100 tests in 0.073s\n",
      "\n",
      "OK\n"
     ]
    }
   ],
   "source": [
    "# This will test your function \n",
    "test_pass(check_pass)"
   ]
  }
 ],
 "metadata": {
  "kernelspec": {
   "display_name": "Python 3 (ipykernel)",
   "language": "python",
   "name": "python3"
  },
  "language_info": {
   "codemirror_mode": {
    "name": "ipython",
    "version": 3
   },
   "file_extension": ".py",
   "mimetype": "text/x-python",
   "name": "python",
   "nbconvert_exporter": "python",
   "pygments_lexer": "ipython3",
   "version": "3.9.12"
  }
 },
 "nbformat": 4,
 "nbformat_minor": 4
}
